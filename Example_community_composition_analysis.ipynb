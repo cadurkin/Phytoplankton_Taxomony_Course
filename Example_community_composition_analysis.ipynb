{
  "nbformat": 4,
  "nbformat_minor": 0,
  "metadata": {
    "colab": {
      "name": "Example_community_composition_analysis.ipynb",
      "version": "0.3.2",
      "provenance": [],
      "include_colab_link": true
    },
    "kernelspec": {
      "name": "python3",
      "display_name": "Python 3"
    }
  },
  "cells": [
    {
      "cell_type": "markdown",
      "metadata": {
        "id": "view-in-github",
        "colab_type": "text"
      },
      "source": [
        "[View in Colaboratory](https://colab.research.google.com/github/cadurkin/Phytoplankton_Taxomony_Course/blob/master/Example_community_composition_analysis.ipynb)"
      ]
    },
    {
      "metadata": {
        "id": "nQweLZAiXurQ",
        "colab_type": "text"
      },
      "cell_type": "markdown",
      "source": [
        "# Example analysis of phytoplankton community composition\n",
        "\n",
        "- First import your data.  \n",
        "- Data should be saved as a .csv file (comma-separated values).\n",
        "- import libraries needed to analyze the data.  Pandas helps to work with data matrices.  Numpy works with data arrays. Matplotlib is used for plotting."
      ]
    },
    {
      "metadata": {
        "scrolled": true,
        "id": "4H3YJksdXurU",
        "colab_type": "code",
        "outputId": "132fdd22-c8d8-4b6a-d672-546f41b2eac6",
        "colab": {
          "base_uri": "https://localhost:8080/",
          "height": 1008
        }
      },
      "cell_type": "code",
      "source": [
        "!pip install scikit-bio\n",
        "!git clone https://github.com/cadurkin/Phytoplankton_Taxomony_Course.git  # Download data\n",
        "  \n",
        "import skbio as skbio\n",
        "import pandas as pd\n",
        "import numpy as np\n",
        "from matplotlib import pyplot as plt\n",
        "\n",
        "data = pd.read_csv('Phytoplankton_Taxomony_Course/Example_Station_M_cellcounts.csv',infer_datetime_format=True,index_col=0)\n",
        "#display the first 10 rows to make sure it looks ok\n",
        "data.iloc[0:10]"
      ],
      "execution_count": 1,
      "outputs": [
        {
          "output_type": "stream",
          "text": [
            "Requirement already satisfied: scikit-bio in /usr/local/lib/python3.6/dist-packages (0.5.4)\n",
            "Requirement already satisfied: CacheControl>=0.11.5 in /usr/local/lib/python3.6/dist-packages (from scikit-bio) (0.12.5)\n",
            "Requirement already satisfied: natsort>=4.0.3 in /usr/local/lib/python3.6/dist-packages (from scikit-bio) (5.4.1)\n",
            "Requirement already satisfied: pandas<0.23.0,>=0.19.2 in /usr/local/lib/python3.6/dist-packages (from scikit-bio) (0.22.0)\n",
            "Requirement already satisfied: numpy<1.14.0,>=1.9.2 in /usr/local/lib/python3.6/dist-packages (from scikit-bio) (1.13.3)\n",
            "Requirement already satisfied: matplotlib>=1.4.3 in /usr/local/lib/python3.6/dist-packages (from scikit-bio) (2.1.2)\n",
            "Requirement already satisfied: hdmedians>=0.13 in /usr/local/lib/python3.6/dist-packages (from scikit-bio) (0.13)\n",
            "Requirement already satisfied: lockfile>=0.10.2 in /usr/local/lib/python3.6/dist-packages (from scikit-bio) (0.12.2)\n",
            "Requirement already satisfied: IPython>=3.2.0 in /usr/local/lib/python3.6/dist-packages (from scikit-bio) (5.5.0)\n",
            "Requirement already satisfied: nose>=1.3.7 in /usr/local/lib/python3.6/dist-packages (from scikit-bio) (1.3.7)\n",
            "Requirement already satisfied: decorator>=3.4.2 in /usr/local/lib/python3.6/dist-packages (from scikit-bio) (4.3.0)\n",
            "Requirement already satisfied: scikit-learn>=0.19.1 in /usr/local/lib/python3.6/dist-packages (from scikit-bio) (0.19.2)\n",
            "Requirement already satisfied: scipy>=0.15.1 in /usr/local/lib/python3.6/dist-packages (from scikit-bio) (0.19.1)\n",
            "Requirement already satisfied: requests in /usr/local/lib/python3.6/dist-packages (from CacheControl>=0.11.5->scikit-bio) (2.18.4)\n",
            "Requirement already satisfied: msgpack in /usr/local/lib/python3.6/dist-packages (from CacheControl>=0.11.5->scikit-bio) (0.5.6)\n",
            "Requirement already satisfied: python-dateutil>=2 in /usr/local/lib/python3.6/dist-packages (from pandas<0.23.0,>=0.19.2->scikit-bio) (2.5.3)\n",
            "Requirement already satisfied: pytz>=2011k in /usr/local/lib/python3.6/dist-packages (from pandas<0.23.0,>=0.19.2->scikit-bio) (2018.5)\n",
            "Requirement already satisfied: six>=1.10 in /usr/local/lib/python3.6/dist-packages (from matplotlib>=1.4.3->scikit-bio) (1.11.0)\n",
            "Requirement already satisfied: pyparsing!=2.0.4,!=2.1.2,!=2.1.6,>=2.0.1 in /usr/local/lib/python3.6/dist-packages (from matplotlib>=1.4.3->scikit-bio) (2.2.2)\n",
            "Requirement already satisfied: cycler>=0.10 in /usr/local/lib/python3.6/dist-packages (from matplotlib>=1.4.3->scikit-bio) (0.10.0)\n",
            "Requirement already satisfied: Cython>=0.23 in /usr/local/lib/python3.6/dist-packages (from hdmedians>=0.13->scikit-bio) (0.29)\n",
            "Requirement already satisfied: pickleshare in /usr/local/lib/python3.6/dist-packages (from IPython>=3.2.0->scikit-bio) (0.7.5)\n",
            "Requirement already satisfied: setuptools>=18.5 in /usr/local/lib/python3.6/dist-packages (from IPython>=3.2.0->scikit-bio) (40.4.3)\n",
            "Requirement already satisfied: simplegeneric>0.8 in /usr/local/lib/python3.6/dist-packages (from IPython>=3.2.0->scikit-bio) (0.8.1)\n",
            "Requirement already satisfied: pexpect; sys_platform != \"win32\" in /usr/local/lib/python3.6/dist-packages (from IPython>=3.2.0->scikit-bio) (4.6.0)\n",
            "Requirement already satisfied: traitlets>=4.2 in /usr/local/lib/python3.6/dist-packages (from IPython>=3.2.0->scikit-bio) (4.3.2)\n",
            "Requirement already satisfied: pygments in /usr/local/lib/python3.6/dist-packages (from IPython>=3.2.0->scikit-bio) (2.1.3)\n",
            "Requirement already satisfied: prompt-toolkit<2.0.0,>=1.0.4 in /usr/local/lib/python3.6/dist-packages (from IPython>=3.2.0->scikit-bio) (1.0.15)\n",
            "Requirement already satisfied: idna<2.7,>=2.5 in /usr/local/lib/python3.6/dist-packages (from requests->CacheControl>=0.11.5->scikit-bio) (2.6)\n",
            "Requirement already satisfied: chardet<3.1.0,>=3.0.2 in /usr/local/lib/python3.6/dist-packages (from requests->CacheControl>=0.11.5->scikit-bio) (3.0.4)\n",
            "Requirement already satisfied: certifi>=2017.4.17 in /usr/local/lib/python3.6/dist-packages (from requests->CacheControl>=0.11.5->scikit-bio) (2018.10.15)\n",
            "Requirement already satisfied: urllib3<1.23,>=1.21.1 in /usr/local/lib/python3.6/dist-packages (from requests->CacheControl>=0.11.5->scikit-bio) (1.22)\n",
            "Requirement already satisfied: ptyprocess>=0.5 in /usr/local/lib/python3.6/dist-packages (from pexpect; sys_platform != \"win32\"->IPython>=3.2.0->scikit-bio) (0.6.0)\n",
            "Requirement already satisfied: ipython-genutils in /usr/local/lib/python3.6/dist-packages (from traitlets>=4.2->IPython>=3.2.0->scikit-bio) (0.2.0)\n",
            "Requirement already satisfied: wcwidth in /usr/local/lib/python3.6/dist-packages (from prompt-toolkit<2.0.0,>=1.0.4->IPython>=3.2.0->scikit-bio) (0.1.7)\n",
            "fatal: destination path 'Phytoplankton_Taxomony_Course' already exists and is not an empty directory.\n"
          ],
          "name": "stdout"
        },
        {
          "output_type": "execute_result",
          "data": {
            "text/html": [
              "<div>\n",
              "<style scoped>\n",
              "    .dataframe tbody tr th:only-of-type {\n",
              "        vertical-align: middle;\n",
              "    }\n",
              "\n",
              "    .dataframe tbody tr th {\n",
              "        vertical-align: top;\n",
              "    }\n",
              "\n",
              "    .dataframe thead th {\n",
              "        text-align: right;\n",
              "    }\n",
              "</style>\n",
              "<table border=\"1\" class=\"dataframe\">\n",
              "  <thead>\n",
              "    <tr style=\"text-align: right;\">\n",
              "      <th></th>\n",
              "      <th>Parameter</th>\n",
              "      <th>Sample1</th>\n",
              "      <th>Sample2</th>\n",
              "      <th>Sample3</th>\n",
              "      <th>Sample4</th>\n",
              "      <th>Sample5</th>\n",
              "      <th>Sample6</th>\n",
              "      <th>Sample7</th>\n",
              "      <th>Sample8</th>\n",
              "      <th>Sample9</th>\n",
              "      <th>Sample10</th>\n",
              "      <th>Sample11</th>\n",
              "      <th>Sample12</th>\n",
              "      <th>Sample13</th>\n",
              "      <th>Sample14</th>\n",
              "      <th>Sample15</th>\n",
              "    </tr>\n",
              "  </thead>\n",
              "  <tbody>\n",
              "    <tr>\n",
              "      <th>total_volume_mL</th>\n",
              "      <td>metadata</td>\n",
              "      <td>37</td>\n",
              "      <td>30</td>\n",
              "      <td>29</td>\n",
              "      <td>29</td>\n",
              "      <td>24</td>\n",
              "      <td>27</td>\n",
              "      <td>41</td>\n",
              "      <td>29</td>\n",
              "      <td>23</td>\n",
              "      <td>1.6</td>\n",
              "      <td>1.8</td>\n",
              "      <td>26</td>\n",
              "      <td>25.5</td>\n",
              "      <td>23</td>\n",
              "      <td>28</td>\n",
              "    </tr>\n",
              "    <tr>\n",
              "      <th>Dilution_factor</th>\n",
              "      <td>metadata</td>\n",
              "      <td>10</td>\n",
              "      <td>10</td>\n",
              "      <td>10</td>\n",
              "      <td>10</td>\n",
              "      <td>20</td>\n",
              "      <td>3</td>\n",
              "      <td>3</td>\n",
              "      <td>3</td>\n",
              "      <td>10</td>\n",
              "      <td>10.0</td>\n",
              "      <td>10.0</td>\n",
              "      <td>3</td>\n",
              "      <td>4.0</td>\n",
              "      <td>3</td>\n",
              "      <td>2</td>\n",
              "    </tr>\n",
              "    <tr>\n",
              "      <th>squares_counted</th>\n",
              "      <td>metadata</td>\n",
              "      <td>12</td>\n",
              "      <td>7</td>\n",
              "      <td>20</td>\n",
              "      <td>12</td>\n",
              "      <td>13</td>\n",
              "      <td>16</td>\n",
              "      <td>25</td>\n",
              "      <td>10</td>\n",
              "      <td>8</td>\n",
              "      <td>10.0</td>\n",
              "      <td>10.0</td>\n",
              "      <td>6</td>\n",
              "      <td>7.0</td>\n",
              "      <td>16</td>\n",
              "      <td>9</td>\n",
              "    </tr>\n",
              "    <tr>\n",
              "      <th>Actinoptychus</th>\n",
              "      <td>diatom</td>\n",
              "      <td>5</td>\n",
              "      <td>0</td>\n",
              "      <td>11</td>\n",
              "      <td>1</td>\n",
              "      <td>1</td>\n",
              "      <td>1</td>\n",
              "      <td>1</td>\n",
              "      <td>3</td>\n",
              "      <td>0</td>\n",
              "      <td>2.0</td>\n",
              "      <td>0.0</td>\n",
              "      <td>4</td>\n",
              "      <td>3.0</td>\n",
              "      <td>1</td>\n",
              "      <td>0</td>\n",
              "    </tr>\n",
              "    <tr>\n",
              "      <th>Asteromphalus_sarcophagus</th>\n",
              "      <td>diatom</td>\n",
              "      <td>1</td>\n",
              "      <td>0</td>\n",
              "      <td>0</td>\n",
              "      <td>0</td>\n",
              "      <td>0</td>\n",
              "      <td>0</td>\n",
              "      <td>0</td>\n",
              "      <td>1</td>\n",
              "      <td>1</td>\n",
              "      <td>0.0</td>\n",
              "      <td>0.0</td>\n",
              "      <td>0</td>\n",
              "      <td>0.0</td>\n",
              "      <td>0</td>\n",
              "      <td>0</td>\n",
              "    </tr>\n",
              "    <tr>\n",
              "      <th>Asteromphalus_circular_60um</th>\n",
              "      <td>diatom</td>\n",
              "      <td>0</td>\n",
              "      <td>0</td>\n",
              "      <td>0</td>\n",
              "      <td>0</td>\n",
              "      <td>3</td>\n",
              "      <td>0</td>\n",
              "      <td>1</td>\n",
              "      <td>1</td>\n",
              "      <td>0</td>\n",
              "      <td>0.0</td>\n",
              "      <td>1.0</td>\n",
              "      <td>0</td>\n",
              "      <td>0.0</td>\n",
              "      <td>0</td>\n",
              "      <td>0</td>\n",
              "    </tr>\n",
              "    <tr>\n",
              "      <th>Bacteriastrum</th>\n",
              "      <td>diatom</td>\n",
              "      <td>20</td>\n",
              "      <td>14</td>\n",
              "      <td>0</td>\n",
              "      <td>1</td>\n",
              "      <td>0</td>\n",
              "      <td>0</td>\n",
              "      <td>0</td>\n",
              "      <td>0</td>\n",
              "      <td>0</td>\n",
              "      <td>0.0</td>\n",
              "      <td>4.0</td>\n",
              "      <td>0</td>\n",
              "      <td>0.0</td>\n",
              "      <td>0</td>\n",
              "      <td>0</td>\n",
              "    </tr>\n",
              "    <tr>\n",
              "      <th>Cerataulina</th>\n",
              "      <td>diatom</td>\n",
              "      <td>5</td>\n",
              "      <td>0</td>\n",
              "      <td>2</td>\n",
              "      <td>0</td>\n",
              "      <td>0</td>\n",
              "      <td>0</td>\n",
              "      <td>0</td>\n",
              "      <td>0</td>\n",
              "      <td>0</td>\n",
              "      <td>0.0</td>\n",
              "      <td>1.0</td>\n",
              "      <td>0</td>\n",
              "      <td>0.0</td>\n",
              "      <td>5</td>\n",
              "      <td>2</td>\n",
              "    </tr>\n",
              "    <tr>\n",
              "      <th>Chaetoceros socialis</th>\n",
              "      <td>diatom</td>\n",
              "      <td>23</td>\n",
              "      <td>4</td>\n",
              "      <td>17</td>\n",
              "      <td>16</td>\n",
              "      <td>0</td>\n",
              "      <td>1</td>\n",
              "      <td>0</td>\n",
              "      <td>0</td>\n",
              "      <td>0</td>\n",
              "      <td>0.0</td>\n",
              "      <td>0.0</td>\n",
              "      <td>0</td>\n",
              "      <td>0.0</td>\n",
              "      <td>0</td>\n",
              "      <td>0</td>\n",
              "    </tr>\n",
              "    <tr>\n",
              "      <th>Chaetoceros_affinis-atlanticus</th>\n",
              "      <td>diatom</td>\n",
              "      <td>5</td>\n",
              "      <td>5</td>\n",
              "      <td>6</td>\n",
              "      <td>0</td>\n",
              "      <td>0</td>\n",
              "      <td>0</td>\n",
              "      <td>0</td>\n",
              "      <td>0</td>\n",
              "      <td>0</td>\n",
              "      <td>0.0</td>\n",
              "      <td>0.0</td>\n",
              "      <td>0</td>\n",
              "      <td>0.0</td>\n",
              "      <td>0</td>\n",
              "      <td>0</td>\n",
              "    </tr>\n",
              "  </tbody>\n",
              "</table>\n",
              "</div>"
            ],
            "text/plain": [
              "                               Parameter  Sample1  Sample2  Sample3  Sample4  \\\n",
              "total_volume_mL                 metadata       37       30       29       29   \n",
              "Dilution_factor                 metadata       10       10       10       10   \n",
              "squares_counted                 metadata       12        7       20       12   \n",
              "Actinoptychus                     diatom        5        0       11        1   \n",
              "Asteromphalus_sarcophagus         diatom        1        0        0        0   \n",
              "Asteromphalus_circular_60um       diatom        0        0        0        0   \n",
              "Bacteriastrum                     diatom       20       14        0        1   \n",
              "Cerataulina                       diatom        5        0        2        0   \n",
              "Chaetoceros socialis              diatom       23        4       17       16   \n",
              "Chaetoceros_affinis-atlanticus    diatom        5        5        6        0   \n",
              "\n",
              "                                Sample5  Sample6  Sample7  Sample8  Sample9  \\\n",
              "total_volume_mL                      24       27       41       29       23   \n",
              "Dilution_factor                      20        3        3        3       10   \n",
              "squares_counted                      13       16       25       10        8   \n",
              "Actinoptychus                         1        1        1        3        0   \n",
              "Asteromphalus_sarcophagus             0        0        0        1        1   \n",
              "Asteromphalus_circular_60um           3        0        1        1        0   \n",
              "Bacteriastrum                         0        0        0        0        0   \n",
              "Cerataulina                           0        0        0        0        0   \n",
              "Chaetoceros socialis                  0        1        0        0        0   \n",
              "Chaetoceros_affinis-atlanticus        0        0        0        0        0   \n",
              "\n",
              "                                Sample10  Sample11  Sample12  Sample13  \\\n",
              "total_volume_mL                      1.6       1.8        26      25.5   \n",
              "Dilution_factor                     10.0      10.0         3       4.0   \n",
              "squares_counted                     10.0      10.0         6       7.0   \n",
              "Actinoptychus                        2.0       0.0         4       3.0   \n",
              "Asteromphalus_sarcophagus            0.0       0.0         0       0.0   \n",
              "Asteromphalus_circular_60um          0.0       1.0         0       0.0   \n",
              "Bacteriastrum                        0.0       4.0         0       0.0   \n",
              "Cerataulina                          0.0       1.0         0       0.0   \n",
              "Chaetoceros socialis                 0.0       0.0         0       0.0   \n",
              "Chaetoceros_affinis-atlanticus       0.0       0.0         0       0.0   \n",
              "\n",
              "                                Sample14  Sample15  \n",
              "total_volume_mL                       23        28  \n",
              "Dilution_factor                        3         2  \n",
              "squares_counted                       16         9  \n",
              "Actinoptychus                          1         0  \n",
              "Asteromphalus_sarcophagus              0         0  \n",
              "Asteromphalus_circular_60um            0         0  \n",
              "Bacteriastrum                          0         0  \n",
              "Cerataulina                            5         2  \n",
              "Chaetoceros socialis                   0         0  \n",
              "Chaetoceros_affinis-atlanticus         0         0  "
            ]
          },
          "metadata": {
            "tags": []
          },
          "execution_count": 1
        }
      ]
    },
    {
      "metadata": {
        "id": "okVacrQQ0kdh",
        "colab_type": "code",
        "colab": {
          "base_uri": "https://localhost:8080/",
          "height": 52
        },
        "outputId": "13a3d557-1e54-4db3-86e2-3c8fe6b2f8eb"
      },
      "cell_type": "code",
      "source": [
        "!ls Phytoplankton_Taxomony_Course"
      ],
      "execution_count": 2,
      "outputs": [
        {
          "output_type": "stream",
          "text": [
            "Example_community_composition_analysis.ipynb  README.md\n",
            "Example_Station_M_cellcounts.csv\n"
          ],
          "name": "stdout"
        }
      ]
    },
    {
      "metadata": {
        "id": "0Pe7rMww1CuH",
        "colab_type": "code",
        "colab": {}
      },
      "cell_type": "code",
      "source": [
        ""
      ],
      "execution_count": 0,
      "outputs": []
    },
    {
      "metadata": {
        "id": "qdf_Mozb1DGj",
        "colab_type": "code",
        "colab": {}
      },
      "cell_type": "code",
      "source": [
        ""
      ],
      "execution_count": 0,
      "outputs": []
    },
    {
      "metadata": {
        "id": "OT4IEAOCXurj",
        "colab_type": "text"
      },
      "cell_type": "markdown",
      "source": [
        "<b> Organize data so that cell counts are in separate matrices from metadata"
      ]
    },
    {
      "metadata": {
        "id": "zcSXounXXurm",
        "colab_type": "code",
        "outputId": "52ce4ccc-6942-4a56-ac07-bced42dfe36e",
        "colab": {
          "base_uri": "https://localhost:8080/",
          "height": 383
        }
      },
      "cell_type": "code",
      "source": [
        "#separate metadata rows and columns from the raw cell counts\n",
        "cell_counts_andType = data.loc[data.Parameter != 'metadata']\n",
        "cell_counts = cell_counts_andType.drop('Parameter',axis=1)\n",
        "#display the top part of the cell count matrix to make sure it looks correct\n",
        "cell_counts.iloc[0:10]\n"
      ],
      "execution_count": 44,
      "outputs": [
        {
          "output_type": "execute_result",
          "data": {
            "text/html": [
              "<div>\n",
              "<style scoped>\n",
              "    .dataframe tbody tr th:only-of-type {\n",
              "        vertical-align: middle;\n",
              "    }\n",
              "\n",
              "    .dataframe tbody tr th {\n",
              "        vertical-align: top;\n",
              "    }\n",
              "\n",
              "    .dataframe thead th {\n",
              "        text-align: right;\n",
              "    }\n",
              "</style>\n",
              "<table border=\"1\" class=\"dataframe\">\n",
              "  <thead>\n",
              "    <tr style=\"text-align: right;\">\n",
              "      <th></th>\n",
              "      <th>Sample1</th>\n",
              "      <th>Sample2</th>\n",
              "      <th>Sample3</th>\n",
              "      <th>Sample4</th>\n",
              "      <th>Sample5</th>\n",
              "      <th>Sample6</th>\n",
              "      <th>Sample7</th>\n",
              "      <th>Sample8</th>\n",
              "      <th>Sample9</th>\n",
              "      <th>Sample10</th>\n",
              "      <th>Sample11</th>\n",
              "      <th>Sample12</th>\n",
              "      <th>Sample13</th>\n",
              "      <th>Sample14</th>\n",
              "      <th>Sample15</th>\n",
              "    </tr>\n",
              "  </thead>\n",
              "  <tbody>\n",
              "    <tr>\n",
              "      <th>Actinoptychus</th>\n",
              "      <td>5</td>\n",
              "      <td>0</td>\n",
              "      <td>11</td>\n",
              "      <td>1</td>\n",
              "      <td>1</td>\n",
              "      <td>1</td>\n",
              "      <td>1</td>\n",
              "      <td>3</td>\n",
              "      <td>0</td>\n",
              "      <td>2.0</td>\n",
              "      <td>0.0</td>\n",
              "      <td>4</td>\n",
              "      <td>3.0</td>\n",
              "      <td>1</td>\n",
              "      <td>0</td>\n",
              "    </tr>\n",
              "    <tr>\n",
              "      <th>Asteromphalus_sarcophagus</th>\n",
              "      <td>1</td>\n",
              "      <td>0</td>\n",
              "      <td>0</td>\n",
              "      <td>0</td>\n",
              "      <td>0</td>\n",
              "      <td>0</td>\n",
              "      <td>0</td>\n",
              "      <td>1</td>\n",
              "      <td>1</td>\n",
              "      <td>0.0</td>\n",
              "      <td>0.0</td>\n",
              "      <td>0</td>\n",
              "      <td>0.0</td>\n",
              "      <td>0</td>\n",
              "      <td>0</td>\n",
              "    </tr>\n",
              "    <tr>\n",
              "      <th>Asteromphalus_circular_60um</th>\n",
              "      <td>0</td>\n",
              "      <td>0</td>\n",
              "      <td>0</td>\n",
              "      <td>0</td>\n",
              "      <td>3</td>\n",
              "      <td>0</td>\n",
              "      <td>1</td>\n",
              "      <td>1</td>\n",
              "      <td>0</td>\n",
              "      <td>0.0</td>\n",
              "      <td>1.0</td>\n",
              "      <td>0</td>\n",
              "      <td>0.0</td>\n",
              "      <td>0</td>\n",
              "      <td>0</td>\n",
              "    </tr>\n",
              "    <tr>\n",
              "      <th>Bacteriastrum</th>\n",
              "      <td>20</td>\n",
              "      <td>14</td>\n",
              "      <td>0</td>\n",
              "      <td>1</td>\n",
              "      <td>0</td>\n",
              "      <td>0</td>\n",
              "      <td>0</td>\n",
              "      <td>0</td>\n",
              "      <td>0</td>\n",
              "      <td>0.0</td>\n",
              "      <td>4.0</td>\n",
              "      <td>0</td>\n",
              "      <td>0.0</td>\n",
              "      <td>0</td>\n",
              "      <td>0</td>\n",
              "    </tr>\n",
              "    <tr>\n",
              "      <th>Cerataulina</th>\n",
              "      <td>5</td>\n",
              "      <td>0</td>\n",
              "      <td>2</td>\n",
              "      <td>0</td>\n",
              "      <td>0</td>\n",
              "      <td>0</td>\n",
              "      <td>0</td>\n",
              "      <td>0</td>\n",
              "      <td>0</td>\n",
              "      <td>0.0</td>\n",
              "      <td>1.0</td>\n",
              "      <td>0</td>\n",
              "      <td>0.0</td>\n",
              "      <td>5</td>\n",
              "      <td>2</td>\n",
              "    </tr>\n",
              "    <tr>\n",
              "      <th>Chaetoceros socialis</th>\n",
              "      <td>23</td>\n",
              "      <td>4</td>\n",
              "      <td>17</td>\n",
              "      <td>16</td>\n",
              "      <td>0</td>\n",
              "      <td>1</td>\n",
              "      <td>0</td>\n",
              "      <td>0</td>\n",
              "      <td>0</td>\n",
              "      <td>0.0</td>\n",
              "      <td>0.0</td>\n",
              "      <td>0</td>\n",
              "      <td>0.0</td>\n",
              "      <td>0</td>\n",
              "      <td>0</td>\n",
              "    </tr>\n",
              "    <tr>\n",
              "      <th>Chaetoceros_affinis-atlanticus</th>\n",
              "      <td>5</td>\n",
              "      <td>5</td>\n",
              "      <td>6</td>\n",
              "      <td>0</td>\n",
              "      <td>0</td>\n",
              "      <td>0</td>\n",
              "      <td>0</td>\n",
              "      <td>0</td>\n",
              "      <td>0</td>\n",
              "      <td>0.0</td>\n",
              "      <td>0.0</td>\n",
              "      <td>0</td>\n",
              "      <td>0.0</td>\n",
              "      <td>0</td>\n",
              "      <td>0</td>\n",
              "    </tr>\n",
              "    <tr>\n",
              "      <th>Chaetoceros_decipien</th>\n",
              "      <td>1</td>\n",
              "      <td>6</td>\n",
              "      <td>0</td>\n",
              "      <td>0</td>\n",
              "      <td>0</td>\n",
              "      <td>0</td>\n",
              "      <td>0</td>\n",
              "      <td>0</td>\n",
              "      <td>0</td>\n",
              "      <td>0.0</td>\n",
              "      <td>1.0</td>\n",
              "      <td>0</td>\n",
              "      <td>0.0</td>\n",
              "      <td>5</td>\n",
              "      <td>0</td>\n",
              "    </tr>\n",
              "    <tr>\n",
              "      <th>Chaetoceros_didymus</th>\n",
              "      <td>0</td>\n",
              "      <td>0</td>\n",
              "      <td>0</td>\n",
              "      <td>0</td>\n",
              "      <td>0</td>\n",
              "      <td>0</td>\n",
              "      <td>0</td>\n",
              "      <td>0</td>\n",
              "      <td>0</td>\n",
              "      <td>0.0</td>\n",
              "      <td>2.0</td>\n",
              "      <td>0</td>\n",
              "      <td>0.0</td>\n",
              "      <td>0</td>\n",
              "      <td>0</td>\n",
              "    </tr>\n",
              "    <tr>\n",
              "      <th>Chaetoceros_concavicornus</th>\n",
              "      <td>3</td>\n",
              "      <td>0</td>\n",
              "      <td>11</td>\n",
              "      <td>2</td>\n",
              "      <td>49</td>\n",
              "      <td>14</td>\n",
              "      <td>0</td>\n",
              "      <td>11</td>\n",
              "      <td>14</td>\n",
              "      <td>0.0</td>\n",
              "      <td>1.0</td>\n",
              "      <td>21</td>\n",
              "      <td>18.0</td>\n",
              "      <td>0</td>\n",
              "      <td>0</td>\n",
              "    </tr>\n",
              "  </tbody>\n",
              "</table>\n",
              "</div>"
            ],
            "text/plain": [
              "                                Sample1  Sample2  Sample3  Sample4  Sample5  \\\n",
              "Actinoptychus                         5        0       11        1        1   \n",
              "Asteromphalus_sarcophagus             1        0        0        0        0   \n",
              "Asteromphalus_circular_60um           0        0        0        0        3   \n",
              "Bacteriastrum                        20       14        0        1        0   \n",
              "Cerataulina                           5        0        2        0        0   \n",
              "Chaetoceros socialis                 23        4       17       16        0   \n",
              "Chaetoceros_affinis-atlanticus        5        5        6        0        0   \n",
              "Chaetoceros_decipien                  1        6        0        0        0   \n",
              "Chaetoceros_didymus                   0        0        0        0        0   \n",
              "Chaetoceros_concavicornus             3        0       11        2       49   \n",
              "\n",
              "                                Sample6  Sample7  Sample8  Sample9  Sample10  \\\n",
              "Actinoptychus                         1        1        3        0       2.0   \n",
              "Asteromphalus_sarcophagus             0        0        1        1       0.0   \n",
              "Asteromphalus_circular_60um           0        1        1        0       0.0   \n",
              "Bacteriastrum                         0        0        0        0       0.0   \n",
              "Cerataulina                           0        0        0        0       0.0   \n",
              "Chaetoceros socialis                  1        0        0        0       0.0   \n",
              "Chaetoceros_affinis-atlanticus        0        0        0        0       0.0   \n",
              "Chaetoceros_decipien                  0        0        0        0       0.0   \n",
              "Chaetoceros_didymus                   0        0        0        0       0.0   \n",
              "Chaetoceros_concavicornus            14        0       11       14       0.0   \n",
              "\n",
              "                                Sample11  Sample12  Sample13  Sample14  \\\n",
              "Actinoptychus                        0.0         4       3.0         1   \n",
              "Asteromphalus_sarcophagus            0.0         0       0.0         0   \n",
              "Asteromphalus_circular_60um          1.0         0       0.0         0   \n",
              "Bacteriastrum                        4.0         0       0.0         0   \n",
              "Cerataulina                          1.0         0       0.0         5   \n",
              "Chaetoceros socialis                 0.0         0       0.0         0   \n",
              "Chaetoceros_affinis-atlanticus       0.0         0       0.0         0   \n",
              "Chaetoceros_decipien                 1.0         0       0.0         5   \n",
              "Chaetoceros_didymus                  2.0         0       0.0         0   \n",
              "Chaetoceros_concavicornus            1.0        21      18.0         0   \n",
              "\n",
              "                                Sample15  \n",
              "Actinoptychus                          0  \n",
              "Asteromphalus_sarcophagus              0  \n",
              "Asteromphalus_circular_60um            0  \n",
              "Bacteriastrum                          0  \n",
              "Cerataulina                            2  \n",
              "Chaetoceros socialis                   0  \n",
              "Chaetoceros_affinis-atlanticus         0  \n",
              "Chaetoceros_decipien                   0  \n",
              "Chaetoceros_didymus                    0  \n",
              "Chaetoceros_concavicornus              0  "
            ]
          },
          "metadata": {
            "tags": []
          },
          "execution_count": 44
        }
      ]
    },
    {
      "metadata": {
        "id": "lez4OpHkXury",
        "colab_type": "code",
        "outputId": "3ffb44fd-dfd2-4077-df21-2e01cd5c7ad9",
        "colab": {
          "base_uri": "https://localhost:8080/",
          "height": 195
        }
      },
      "cell_type": "code",
      "source": [
        "#Create matrix with all the metadata\n",
        "metadata_andType = data.loc[data.Parameter == 'metadata']\n",
        "metadata = metadata_andType.drop('Parameter',axis=1)\n",
        "metadata"
      ],
      "execution_count": 45,
      "outputs": [
        {
          "output_type": "execute_result",
          "data": {
            "text/html": [
              "<div>\n",
              "<style scoped>\n",
              "    .dataframe tbody tr th:only-of-type {\n",
              "        vertical-align: middle;\n",
              "    }\n",
              "\n",
              "    .dataframe tbody tr th {\n",
              "        vertical-align: top;\n",
              "    }\n",
              "\n",
              "    .dataframe thead th {\n",
              "        text-align: right;\n",
              "    }\n",
              "</style>\n",
              "<table border=\"1\" class=\"dataframe\">\n",
              "  <thead>\n",
              "    <tr style=\"text-align: right;\">\n",
              "      <th></th>\n",
              "      <th>Sample1</th>\n",
              "      <th>Sample2</th>\n",
              "      <th>Sample3</th>\n",
              "      <th>Sample4</th>\n",
              "      <th>Sample5</th>\n",
              "      <th>Sample6</th>\n",
              "      <th>Sample7</th>\n",
              "      <th>Sample8</th>\n",
              "      <th>Sample9</th>\n",
              "      <th>Sample10</th>\n",
              "      <th>Sample11</th>\n",
              "      <th>Sample12</th>\n",
              "      <th>Sample13</th>\n",
              "      <th>Sample14</th>\n",
              "      <th>Sample15</th>\n",
              "    </tr>\n",
              "  </thead>\n",
              "  <tbody>\n",
              "    <tr>\n",
              "      <th>total_volume_mL</th>\n",
              "      <td>37</td>\n",
              "      <td>30</td>\n",
              "      <td>29</td>\n",
              "      <td>29</td>\n",
              "      <td>24</td>\n",
              "      <td>27</td>\n",
              "      <td>41</td>\n",
              "      <td>29</td>\n",
              "      <td>23</td>\n",
              "      <td>1.6</td>\n",
              "      <td>1.8</td>\n",
              "      <td>26</td>\n",
              "      <td>25.5</td>\n",
              "      <td>23</td>\n",
              "      <td>28</td>\n",
              "    </tr>\n",
              "    <tr>\n",
              "      <th>Dilution_factor</th>\n",
              "      <td>10</td>\n",
              "      <td>10</td>\n",
              "      <td>10</td>\n",
              "      <td>10</td>\n",
              "      <td>20</td>\n",
              "      <td>3</td>\n",
              "      <td>3</td>\n",
              "      <td>3</td>\n",
              "      <td>10</td>\n",
              "      <td>10.0</td>\n",
              "      <td>10.0</td>\n",
              "      <td>3</td>\n",
              "      <td>4.0</td>\n",
              "      <td>3</td>\n",
              "      <td>2</td>\n",
              "    </tr>\n",
              "    <tr>\n",
              "      <th>squares_counted</th>\n",
              "      <td>12</td>\n",
              "      <td>7</td>\n",
              "      <td>20</td>\n",
              "      <td>12</td>\n",
              "      <td>13</td>\n",
              "      <td>16</td>\n",
              "      <td>25</td>\n",
              "      <td>10</td>\n",
              "      <td>8</td>\n",
              "      <td>10.0</td>\n",
              "      <td>10.0</td>\n",
              "      <td>6</td>\n",
              "      <td>7.0</td>\n",
              "      <td>16</td>\n",
              "      <td>9</td>\n",
              "    </tr>\n",
              "    <tr>\n",
              "      <th>Total_counted</th>\n",
              "      <td>457</td>\n",
              "      <td>630</td>\n",
              "      <td>954</td>\n",
              "      <td>434</td>\n",
              "      <td>421</td>\n",
              "      <td>502</td>\n",
              "      <td>737</td>\n",
              "      <td>642</td>\n",
              "      <td>543</td>\n",
              "      <td>740.0</td>\n",
              "      <td>661.0</td>\n",
              "      <td>405</td>\n",
              "      <td>521.0</td>\n",
              "      <td>1026</td>\n",
              "      <td>1021</td>\n",
              "    </tr>\n",
              "  </tbody>\n",
              "</table>\n",
              "</div>"
            ],
            "text/plain": [
              "                 Sample1  Sample2  Sample3  Sample4  Sample5  Sample6  \\\n",
              "total_volume_mL       37       30       29       29       24       27   \n",
              "Dilution_factor       10       10       10       10       20        3   \n",
              "squares_counted       12        7       20       12       13       16   \n",
              "Total_counted        457      630      954      434      421      502   \n",
              "\n",
              "                 Sample7  Sample8  Sample9  Sample10  Sample11  Sample12  \\\n",
              "total_volume_mL       41       29       23       1.6       1.8        26   \n",
              "Dilution_factor        3        3       10      10.0      10.0         3   \n",
              "squares_counted       25       10        8      10.0      10.0         6   \n",
              "Total_counted        737      642      543     740.0     661.0       405   \n",
              "\n",
              "                 Sample13  Sample14  Sample15  \n",
              "total_volume_mL      25.5        23        28  \n",
              "Dilution_factor       4.0         3         2  \n",
              "squares_counted       7.0        16         9  \n",
              "Total_counted       521.0      1026      1021  "
            ]
          },
          "metadata": {
            "tags": []
          },
          "execution_count": 45
        }
      ]
    },
    {
      "metadata": {
        "id": "nHgoK9GrXur6",
        "colab_type": "text"
      },
      "cell_type": "markdown",
      "source": [
        "## Calculate the cell concentrations\n",
        "- Divide cell counts by the number of sedwick rafter squares counted to calculate cells per uL.  One square = 1 microliter of sample.\n",
        "- Multiply the cells per uL by the dilution or concentration factor, whichever is appropriate.  In this dataset, highly concentrated samples were diluted.  If you settled cells into a smaller volume, you will need to use the dilution factor.  For example, 1 mL concentrated from 10 mL = 0.1 dilution factor.\n"
      ]
    },
    {
      "metadata": {
        "id": "guGZ62JOXur9",
        "colab_type": "code",
        "colab": {}
      },
      "cell_type": "code",
      "source": [
        "cells_per_uL = cell_counts.divide(metadata.loc['squares_counted'], axis = 1)\n",
        "cells_per_uL_dilutionCorrected = cells_per_uL.multiply(metadata.loc['Dilution_factor'], axis = 1)"
      ],
      "execution_count": 0,
      "outputs": []
    },
    {
      "metadata": {
        "id": "naG5Chg7XusE",
        "colab_type": "code",
        "colab": {}
      },
      "cell_type": "code",
      "source": [
        "#convert the cell concentration to cells per mL\n",
        "cells_per_mL = cells_per_uL_dilutionCorrected.multiply(1000)"
      ],
      "execution_count": 0,
      "outputs": []
    },
    {
      "metadata": {
        "id": "3PTXOvVyXusM",
        "colab_type": "text"
      },
      "cell_type": "markdown",
      "source": [
        "## Calculate Bray-Curtis dissimilarity index matrix\n",
        "- using scipy library of functions\n",
        "- \"pdist\" calculates the pairwise distance between all samples using a chosen metric.  Here, we are using the Bray-Curtis similary metric.\n",
        "- the pdist function requires an array with samples as the columns and species as the rows.  So, we need to transform our species abundance matrix using the pandas function \".T\".  \n",
        "- For the \"pdist\" function to work, the species abundance matrix also needs to be converted to an \"array\", which does not have any labels in the rows or columns.\n",
        "- later we will need our similarity matrix to be in a \"square\" form, instead of the condensed output that pdist provides by default.  The squareform function converts the condensed matrix into a square.\n",
        "- The functions used in later steps will also require the similarity matrix to be in a specialized \"distance matrix\" format used by that function.  The last line of code here converts our square matrix into a distance matrix that includes the sample IDs."
      ]
    },
    {
      "metadata": {
        "id": "W7VeLXQbXusQ",
        "colab_type": "code",
        "colab": {
          "base_uri": "https://localhost:8080/",
          "height": 400
        },
        "outputId": "86257a98-8623-4754-caff-a964c62323df"
      },
      "cell_type": "code",
      "source": [
        "from scipy.spatial.distance import pdist\n",
        "from scipy.spatial.distance import squareform\n",
        "\n",
        "bc_matrix_condensed = pdist(np.asarray(cells_per_mL.T),metric = 'braycurtis')\n",
        "bc_matrix_square = squareform(bc_matrix_condensed)\n",
        "\n",
        "sample_list = np.asarray(cell_counts.T.index)\n",
        "bc_matrix = skbio.stats.distance.DistanceMatrix(data = bc_matrix_square,ids=sample_list)\n",
        "bc_matrix"
      ],
      "execution_count": 51,
      "outputs": [
        {
          "output_type": "execute_result",
          "data": {
            "image/png": "[encoded data removed]",
            "text/plain": [
              "<skbio.stats.distance._base.DistanceMatrix at 0x7ff8b0f7ee80>"
            ],
            "image/svg+xml": "<?xml version=\"1.0\" encoding=\"utf-8\" standalone=\"no\"?>\n<!DOCTYPE svg PUBLIC \"-//W3C//DTD SVG 1.1//EN\"\n  \"http://www.w3.org/Graphics/SVG/1.1/DTD/svg11.dtd\">\n<!-- Created with matplotlib (http://matplotlib.org/) -->\n<svg height=\"283pt\" version=\"1.1\" viewBox=\"0 0 382 283\" width=\"382pt\" xmlns=\"http://www.w3.org/2000/svg\" xmlns:xlink=\"http://www.w3.org/1999/xlink\">\n <defs>\n  <style type=\"text/css\">\n*{stroke-linecap:butt;stroke-linejoin:round;}\n  </style>\n </defs>\n <g id=\"figure_1\">\n  <g id=\"patch_1\">\n   <path d=\"M 0 283.866562 \nL 382.778562 283.866562 \nL 382.778562 0 \nL 0 0 \nz\n\" style=\"fill:none;\"/>\n  </g>\n  <g id=\"axes_1\">\n   <g id=\"patch_2\">\n    <path d=\"M 59.226563 224.64 \nL 327.066562 224.64 \nL 327.066562 7.2 \nL 59.226563 7.2 \nz\n\" style=\"fill:#eaeaf2;\"/>\n   </g>\n   <g id=\"matplotlib.axis_1\">\n    <g id=\"xtick_1\">\n     <g id=\"line2d_1\"/>\n     <g id=\"text_1\">\n      <!-- Sample1 -->\n      <defs>\n       <path d=\"M 62.109375 19 \nQ 62.109375 14.65625 60.421875 10.984375 \nQ 58.734375 7.328125 55.21875 4.65625 \nQ 51.703125 2 46.359375 0.5 \nQ 41.015625 -0.984375 33.6875 -0.984375 \nQ 20.84375 -0.984375 13.671875 3.515625 \nQ 6.5 8.015625 4.546875 16.5 \nL 13.578125 18.3125 \nQ 14.265625 15.625 15.671875 13.421875 \nQ 17.09375 11.234375 19.5 9.640625 \nQ 21.921875 8.0625 25.484375 7.171875 \nQ 29.046875 6.296875 34.03125 6.296875 \nQ 38.1875 6.296875 41.65625 7 \nQ 45.125 7.71875 47.609375 9.171875 \nQ 50.09375 10.640625 51.484375 12.953125 \nQ 52.875 15.28125 52.875 18.5 \nQ 52.875 21.875 51.34375 23.96875 \nQ 49.8125 26.078125 47.015625 27.4375 \nQ 44.234375 28.8125 40.375 29.734375 \nQ 36.53125 30.671875 31.84375 31.734375 \nQ 28.953125 32.375 26.046875 33.125 \nQ 23.140625 33.890625 20.484375 34.9375 \nQ 17.828125 35.984375 15.484375 37.390625 \nQ 13.140625 38.8125 11.421875 40.796875 \nQ 9.71875 42.78125 8.734375 45.390625 \nQ 7.765625 48 7.765625 51.421875 \nQ 7.765625 56.296875 9.734375 59.78125 \nQ 11.71875 63.28125 15.234375 65.53125 \nQ 18.75 67.78125 23.53125 68.796875 \nQ 28.328125 69.828125 33.890625 69.828125 \nQ 40.28125 69.828125 44.8125 68.828125 \nQ 49.359375 67.828125 52.484375 65.8125 \nQ 55.609375 63.8125 57.484375 60.859375 \nQ 59.375 57.90625 60.5 54 \nL 51.3125 52.390625 \nQ 50.640625 54.890625 49.34375 56.84375 \nQ 48.046875 58.796875 45.9375 60.109375 \nQ 43.84375 61.421875 40.84375 62.109375 \nQ 37.84375 62.796875 33.796875 62.796875 \nQ 29 62.796875 25.75 61.9375 \nQ 22.515625 61.078125 20.53125 59.609375 \nQ 18.5625 58.15625 17.703125 56.171875 \nQ 16.84375 54.203125 16.84375 51.90625 \nQ 16.84375 48.828125 18.375 46.84375 \nQ 19.921875 44.875 22.5625 43.546875 \nQ 25.203125 42.234375 28.65625 41.359375 \nQ 32.125 40.484375 36.03125 39.59375 \nQ 39.203125 38.875 42.359375 38.109375 \nQ 45.515625 37.359375 48.390625 36.296875 \nQ 51.265625 35.25 53.78125 33.828125 \nQ 56.296875 32.421875 58.15625 30.375 \nQ 60.015625 28.328125 61.0625 25.53125 \nQ 62.109375 22.75 62.109375 19 \nz\n\" id=\"LiberationSans-53\"/>\n       <path d=\"M 20.21875 -0.984375 \nQ 12.25 -0.984375 8.25 3.21875 \nQ 4.25 7.421875 4.25 14.75 \nQ 4.25 19.96875 6.21875 23.3125 \nQ 8.203125 26.65625 11.390625 28.5625 \nQ 14.59375 30.46875 18.6875 31.203125 \nQ 22.796875 31.9375 27.046875 32.03125 \nL 38.921875 32.234375 \nL 38.921875 35.109375 \nQ 38.921875 38.375 38.234375 40.671875 \nQ 37.546875 42.96875 36.125 44.375 \nQ 34.71875 45.796875 32.59375 46.453125 \nQ 30.46875 47.125 27.59375 47.125 \nQ 25.046875 47.125 23 46.75 \nQ 20.953125 46.390625 19.4375 45.4375 \nQ 17.921875 44.484375 16.984375 42.84375 \nQ 16.0625 41.21875 15.765625 38.71875 \nL 6.59375 39.546875 \nQ 7.078125 42.671875 8.4375 45.28125 \nQ 9.8125 47.90625 12.328125 49.796875 \nQ 14.84375 51.703125 18.625 52.75 \nQ 22.40625 53.8125 27.78125 53.8125 \nQ 37.75 53.8125 42.765625 49.234375 \nQ 47.796875 44.671875 47.796875 36.03125 \nL 47.796875 13.28125 \nQ 47.796875 9.375 48.828125 7.390625 \nQ 49.859375 5.421875 52.734375 5.421875 \nQ 53.46875 5.421875 54.203125 5.515625 \nQ 54.9375 5.609375 55.609375 5.765625 \nL 55.609375 0.296875 \nQ 53.953125 -0.09375 52.3125 -0.28125 \nQ 50.6875 -0.484375 48.828125 -0.484375 \nQ 46.34375 -0.484375 44.5625 0.171875 \nQ 42.78125 0.828125 41.65625 2.171875 \nQ 40.53125 3.515625 39.9375 5.484375 \nQ 39.359375 7.46875 39.203125 10.109375 \nL 38.921875 10.109375 \nQ 37.5 7.5625 35.8125 5.515625 \nQ 34.125 3.46875 31.875 2.03125 \nQ 29.640625 0.59375 26.78125 -0.1875 \nQ 23.921875 -0.984375 20.21875 -0.984375 \nz\nM 22.21875 5.609375 \nQ 26.421875 5.609375 29.5625 7.140625 \nQ 32.71875 8.6875 34.78125 11.078125 \nQ 36.859375 13.484375 37.890625 16.3125 \nQ 38.921875 19.140625 38.921875 21.734375 \nL 38.921875 26.078125 \nL 29.296875 25.875 \nQ 26.078125 25.828125 23.171875 25.40625 \nQ 20.265625 25 18.0625 23.78125 \nQ 15.875 22.5625 14.578125 20.359375 \nQ 13.28125 18.171875 13.28125 14.59375 \nQ 13.28125 10.296875 15.59375 7.953125 \nQ 17.921875 5.609375 22.21875 5.609375 \nz\n\" id=\"LiberationSans-61\"/>\n       <path d=\"M 37.5 0 \nL 37.5 33.5 \nQ 37.5 37.359375 37.015625 39.9375 \nQ 36.53125 42.53125 35.375 44.109375 \nQ 34.234375 45.703125 32.375 46.359375 \nQ 30.515625 47.015625 27.828125 47.015625 \nQ 25.046875 47.015625 22.796875 45.921875 \nQ 20.5625 44.828125 18.96875 42.75 \nQ 17.390625 40.671875 16.53125 37.625 \nQ 15.671875 34.578125 15.671875 30.609375 \nL 15.671875 0 \nL 6.9375 0 \nL 6.9375 41.546875 \nQ 6.9375 43.21875 6.90625 45.046875 \nQ 6.890625 46.875 6.828125 48.5 \nQ 6.78125 50.140625 6.734375 51.3125 \nQ 6.6875 52.484375 6.640625 52.828125 \nL 14.9375 52.828125 \nQ 14.984375 52.59375 15.03125 51.515625 \nQ 15.09375 50.4375 15.15625 49.046875 \nQ 15.234375 47.65625 15.28125 46.21875 \nQ 15.328125 44.78125 15.328125 43.796875 \nL 15.484375 43.796875 \nQ 16.65625 46.09375 18.015625 47.953125 \nQ 19.390625 49.8125 21.21875 51.09375 \nQ 23.046875 52.390625 25.40625 53.09375 \nQ 27.78125 53.8125 30.90625 53.8125 \nQ 36.921875 53.8125 40.40625 51.421875 \nQ 43.890625 49.03125 45.265625 43.796875 \nL 45.40625 43.796875 \nQ 46.578125 46.09375 48.046875 47.953125 \nQ 49.515625 49.8125 51.46875 51.09375 \nQ 53.421875 52.390625 55.859375 53.09375 \nQ 58.296875 53.8125 61.421875 53.8125 \nQ 65.4375 53.8125 68.328125 52.734375 \nQ 71.234375 51.65625 73.09375 49.40625 \nQ 74.953125 47.171875 75.828125 43.625 \nQ 76.703125 40.09375 76.703125 35.203125 \nL 76.703125 0 \nL 68.015625 0 \nL 68.015625 33.5 \nQ 68.015625 37.359375 67.53125 39.9375 \nQ 67.046875 42.53125 65.890625 44.109375 \nQ 64.75 45.703125 62.890625 46.359375 \nQ 61.03125 47.015625 58.34375 47.015625 \nQ 55.5625 47.015625 53.3125 45.96875 \nQ 51.078125 44.921875 49.484375 42.875 \nQ 47.90625 40.828125 47.046875 37.75 \nQ 46.1875 34.671875 46.1875 30.609375 \nL 46.1875 0 \nz\n\" id=\"LiberationSans-6d\"/>\n       <path d=\"M 51.421875 26.65625 \nQ 51.421875 20.65625 50.4375 15.578125 \nQ 49.46875 10.5 47.1875 6.828125 \nQ 44.921875 3.171875 41.1875 1.09375 \nQ 37.453125 -0.984375 31.984375 -0.984375 \nQ 26.3125 -0.984375 22.0625 1.171875 \nQ 17.828125 3.328125 15.578125 8.203125 \nL 15.328125 8.203125 \nQ 15.375 8.109375 15.40625 7.328125 \nQ 15.4375 6.546875 15.453125 5.375 \nQ 15.484375 4.203125 15.5 2.75 \nQ 15.53125 1.3125 15.53125 -0.09375 \nL 15.53125 -20.75 \nL 6.734375 -20.75 \nL 6.734375 42.046875 \nQ 6.734375 43.953125 6.703125 45.703125 \nQ 6.6875 47.46875 6.640625 48.90625 \nQ 6.59375 50.34375 6.546875 51.359375 \nQ 6.5 52.390625 6.453125 52.828125 \nL 14.9375 52.828125 \nQ 14.984375 52.6875 15.0625 51.796875 \nQ 15.140625 50.921875 15.203125 49.671875 \nQ 15.28125 48.4375 15.359375 47.015625 \nQ 15.4375 45.609375 15.4375 44.34375 \nL 15.625 44.34375 \nQ 16.84375 46.875 18.40625 48.65625 \nQ 19.96875 50.4375 21.96875 51.578125 \nQ 23.96875 52.734375 26.4375 53.25 \nQ 28.90625 53.765625 31.984375 53.765625 \nQ 37.453125 53.765625 41.1875 51.8125 \nQ 44.921875 49.859375 47.1875 46.3125 \nQ 49.46875 42.78125 50.4375 37.765625 \nQ 51.421875 32.765625 51.421875 26.65625 \nz\nM 42.1875 26.46875 \nQ 42.1875 31.34375 41.59375 35.15625 \nQ 41.015625 38.96875 39.578125 41.59375 \nQ 38.140625 44.234375 35.734375 45.59375 \nQ 33.34375 46.96875 29.734375 46.96875 \nQ 26.8125 46.96875 24.21875 46.140625 \nQ 21.625 45.3125 19.703125 42.96875 \nQ 17.78125 40.625 16.65625 36.5 \nQ 15.53125 32.375 15.53125 25.78125 \nQ 15.53125 20.171875 16.453125 16.28125 \nQ 17.390625 12.40625 19.171875 10.015625 \nQ 20.953125 7.625 23.578125 6.5625 \nQ 26.21875 5.515625 29.640625 5.515625 \nQ 33.296875 5.515625 35.71875 6.921875 \nQ 38.140625 8.34375 39.578125 11.03125 \nQ 41.015625 13.71875 41.59375 17.59375 \nQ 42.1875 21.484375 42.1875 26.46875 \nz\n\" id=\"LiberationSans-70\"/>\n       <path d=\"M 6.734375 0 \nL 6.734375 72.46875 \nL 15.53125 72.46875 \nL 15.53125 0 \nz\n\" id=\"LiberationSans-6c\"/>\n       <path d=\"M 13.484375 24.5625 \nQ 13.484375 20.40625 14.328125 16.90625 \nQ 15.1875 13.421875 16.96875 10.90625 \nQ 18.75 8.40625 21.53125 7 \nQ 24.3125 5.609375 28.21875 5.609375 \nQ 33.9375 5.609375 37.375 7.90625 \nQ 40.828125 10.203125 42.046875 13.71875 \nL 49.75 11.53125 \nQ 48.921875 9.328125 47.4375 7.109375 \nQ 45.953125 4.890625 43.453125 3.09375 \nQ 40.96875 1.3125 37.234375 0.15625 \nQ 33.5 -0.984375 28.21875 -0.984375 \nQ 16.5 -0.984375 10.375 6 \nQ 4.25 12.984375 4.25 26.765625 \nQ 4.25 34.1875 6.09375 39.328125 \nQ 7.953125 44.484375 11.171875 47.703125 \nQ 14.40625 50.921875 18.703125 52.359375 \nQ 23 53.8125 27.875 53.8125 \nQ 34.515625 53.8125 38.984375 51.65625 \nQ 43.453125 49.515625 46.15625 45.71875 \nQ 48.875 41.9375 50.015625 36.8125 \nQ 51.171875 31.6875 51.171875 25.734375 \nL 51.171875 24.5625 \nz\nM 42.09375 31.296875 \nQ 41.359375 39.65625 37.84375 43.484375 \nQ 34.328125 47.3125 27.734375 47.3125 \nQ 25.53125 47.3125 23.109375 46.609375 \nQ 20.703125 45.90625 18.65625 44.09375 \nQ 16.609375 42.28125 15.1875 39.171875 \nQ 13.765625 36.078125 13.578125 31.296875 \nz\n\" id=\"LiberationSans-65\"/>\n       <path d=\"M 7.625 0 \nL 7.625 7.46875 \nL 25.140625 7.46875 \nL 25.140625 60.40625 \nL 9.625 49.3125 \nL 9.625 57.625 \nL 25.875 68.796875 \nL 33.984375 68.796875 \nL 33.984375 7.46875 \nL 50.734375 7.46875 \nL 50.734375 0 \nz\n\" id=\"LiberationSans-31\"/>\n      </defs>\n      <g style=\"fill:#262626;\" transform=\"translate(70.7405 271.105625)rotate(-90)scale(0.1 -0.1)\">\n       <use xlink:href=\"#LiberationSans-53\"/>\n       <use x=\"66.699219\" xlink:href=\"#LiberationSans-61\"/>\n       <use x=\"122.314453\" xlink:href=\"#LiberationSans-6d\"/>\n       <use x=\"205.615234\" xlink:href=\"#LiberationSans-70\"/>\n       <use x=\"261.230469\" xlink:href=\"#LiberationSans-6c\"/>\n       <use x=\"283.447266\" xlink:href=\"#LiberationSans-65\"/>\n       <use x=\"339.0625\" xlink:href=\"#LiberationSans-31\"/>\n      </g>\n     </g>\n    </g>\n    <g id=\"xtick_2\">\n     <g id=\"line2d_2\"/>\n     <g id=\"text_2\">\n      <!-- Sample2 -->\n      <defs>\n       <path d=\"M 5.03125 0 \nL 5.03125 6.203125 \nQ 7.515625 11.921875 11.109375 16.28125 \nQ 14.703125 20.65625 18.65625 24.1875 \nQ 22.609375 27.734375 26.484375 30.765625 \nQ 30.375 33.796875 33.5 36.8125 \nQ 36.625 39.84375 38.546875 43.15625 \nQ 40.484375 46.484375 40.484375 50.6875 \nQ 40.484375 53.609375 39.59375 55.828125 \nQ 38.71875 58.0625 37.0625 59.5625 \nQ 35.40625 61.078125 33.078125 61.828125 \nQ 30.765625 62.59375 27.9375 62.59375 \nQ 25.296875 62.59375 22.96875 61.859375 \nQ 20.65625 61.140625 18.84375 59.671875 \nQ 17.046875 58.203125 15.890625 56.03125 \nQ 14.75 53.859375 14.40625 50.984375 \nL 5.421875 51.8125 \nQ 5.859375 55.515625 7.46875 58.78125 \nQ 9.078125 62.0625 11.90625 64.53125 \nQ 14.75 67 18.71875 68.40625 \nQ 22.703125 69.828125 27.9375 69.828125 \nQ 33.0625 69.828125 37.0625 68.609375 \nQ 41.0625 67.390625 43.8125 64.984375 \nQ 46.578125 62.59375 48.046875 59.078125 \nQ 49.515625 55.5625 49.515625 50.984375 \nQ 49.515625 47.515625 48.265625 44.390625 \nQ 47.015625 41.265625 44.9375 38.421875 \nQ 42.875 35.59375 40.140625 32.953125 \nQ 37.40625 30.328125 34.421875 27.8125 \nQ 31.453125 25.296875 28.421875 22.828125 \nQ 25.390625 20.359375 22.71875 17.859375 \nQ 20.0625 15.375 17.96875 12.8125 \nQ 15.875 10.25 14.703125 7.46875 \nL 50.59375 7.46875 \nL 50.59375 0 \nz\n\" id=\"LiberationSans-32\"/>\n      </defs>\n      <g style=\"fill:#262626;\" transform=\"translate(88.5965 271.105625)rotate(-90)scale(0.1 -0.1)\">\n       <use xlink:href=\"#LiberationSans-53\"/>\n       <use x=\"66.699219\" xlink:href=\"#LiberationSans-61\"/>\n       <use x=\"122.314453\" xlink:href=\"#LiberationSans-6d\"/>\n       <use x=\"205.615234\" xlink:href=\"#LiberationSans-70\"/>\n       <use x=\"261.230469\" xlink:href=\"#LiberationSans-6c\"/>\n       <use x=\"283.447266\" xlink:href=\"#LiberationSans-65\"/>\n       <use x=\"339.0625\" xlink:href=\"#LiberationSans-32\"/>\n      </g>\n     </g>\n    </g>\n    <g id=\"xtick_3\">\n     <g id=\"line2d_3\"/>\n     <g id=\"text_3\">\n      <!-- Sample3 -->\n      <defs>\n       <path d=\"M 51.21875 19 \nQ 51.21875 14.265625 49.671875 10.546875 \nQ 48.140625 6.84375 45.1875 4.265625 \nQ 42.234375 1.703125 37.859375 0.359375 \nQ 33.5 -0.984375 27.875 -0.984375 \nQ 21.484375 -0.984375 17.109375 0.609375 \nQ 12.75 2.203125 9.90625 4.8125 \nQ 7.078125 7.421875 5.65625 10.765625 \nQ 4.25 14.109375 3.8125 17.671875 \nL 12.890625 18.5 \nQ 13.28125 15.765625 14.328125 13.515625 \nQ 15.375 11.28125 17.1875 9.671875 \nQ 19 8.0625 21.625 7.171875 \nQ 24.265625 6.296875 27.875 6.296875 \nQ 34.515625 6.296875 38.296875 9.5625 \nQ 42.09375 12.84375 42.09375 19.28125 \nQ 42.09375 23.09375 40.40625 25.40625 \nQ 38.71875 27.734375 36.203125 29.03125 \nQ 33.6875 30.328125 30.734375 30.765625 \nQ 27.78125 31.203125 25.296875 31.203125 \nL 20.3125 31.203125 \nL 20.3125 38.8125 \nL 25.09375 38.8125 \nQ 27.59375 38.8125 30.265625 39.328125 \nQ 32.953125 39.84375 35.171875 41.1875 \nQ 37.40625 42.53125 38.84375 44.828125 \nQ 40.28125 47.125 40.28125 50.6875 \nQ 40.28125 56.203125 37.03125 59.390625 \nQ 33.796875 62.59375 27.390625 62.59375 \nQ 21.578125 62.59375 17.984375 59.609375 \nQ 14.40625 56.640625 13.8125 51.21875 \nL 4.984375 51.90625 \nQ 5.515625 56.453125 7.46875 59.8125 \nQ 9.421875 63.1875 12.421875 65.40625 \nQ 15.4375 67.625 19.28125 68.71875 \nQ 23.140625 69.828125 27.484375 69.828125 \nQ 33.25 69.828125 37.390625 68.375 \nQ 41.546875 66.9375 44.1875 64.46875 \nQ 46.828125 62.015625 48.0625 58.6875 \nQ 49.3125 55.375 49.3125 51.609375 \nQ 49.3125 48.578125 48.484375 45.9375 \nQ 47.65625 43.3125 45.890625 41.203125 \nQ 44.140625 39.109375 41.421875 37.59375 \nQ 38.71875 36.078125 34.90625 35.296875 \nL 34.90625 35.109375 \nQ 39.0625 34.671875 42.140625 33.21875 \nQ 45.21875 31.78125 47.21875 29.625 \nQ 49.21875 27.484375 50.21875 24.75 \nQ 51.21875 22.015625 51.21875 19 \nz\n\" id=\"LiberationSans-33\"/>\n      </defs>\n      <g style=\"fill:#262626;\" transform=\"translate(106.4525 271.105625)rotate(-90)scale(0.1 -0.1)\">\n       <use xlink:href=\"#LiberationSans-53\"/>\n       <use x=\"66.699219\" xlink:href=\"#LiberationSans-61\"/>\n       <use x=\"122.314453\" xlink:href=\"#LiberationSans-6d\"/>\n       <use x=\"205.615234\" xlink:href=\"#LiberationSans-70\"/>\n       <use x=\"261.230469\" xlink:href=\"#LiberationSans-6c\"/>\n       <use x=\"283.447266\" xlink:href=\"#LiberationSans-65\"/>\n       <use x=\"339.0625\" xlink:href=\"#LiberationSans-33\"/>\n      </g>\n     </g>\n    </g>\n    <g id=\"xtick_4\">\n     <g id=\"line2d_4\"/>\n     <g id=\"text_4\">\n      <!-- Sample4 -->\n      <defs>\n       <path d=\"M 43.015625 15.578125 \nL 43.015625 0 \nL 34.71875 0 \nL 34.71875 15.578125 \nL 2.296875 15.578125 \nL 2.296875 22.40625 \nL 33.796875 68.796875 \nL 43.015625 68.796875 \nL 43.015625 22.515625 \nL 52.6875 22.515625 \nL 52.6875 15.578125 \nz\nM 34.71875 58.890625 \nQ 34.625 58.640625 34.234375 57.9375 \nQ 33.84375 57.234375 33.34375 56.34375 \nQ 32.859375 55.46875 32.34375 54.5625 \nQ 31.84375 53.65625 31.453125 53.078125 \nL 13.8125 27.09375 \nQ 13.578125 26.703125 13.109375 26.0625 \nQ 12.640625 25.4375 12.15625 24.78125 \nQ 11.671875 24.125 11.171875 23.484375 \nQ 10.6875 22.859375 10.40625 22.515625 \nL 34.71875 22.515625 \nz\n\" id=\"LiberationSans-34\"/>\n      </defs>\n      <g style=\"fill:#262626;\" transform=\"translate(124.3085 271.105625)rotate(-90)scale(0.1 -0.1)\">\n       <use xlink:href=\"#LiberationSans-53\"/>\n       <use x=\"66.699219\" xlink:href=\"#LiberationSans-61\"/>\n       <use x=\"122.314453\" xlink:href=\"#LiberationSans-6d\"/>\n       <use x=\"205.615234\" xlink:href=\"#LiberationSans-70\"/>\n       <use x=\"261.230469\" xlink:href=\"#LiberationSans-6c\"/>\n       <use x=\"283.447266\" xlink:href=\"#LiberationSans-65\"/>\n       <use x=\"339.0625\" xlink:href=\"#LiberationSans-34\"/>\n      </g>\n     </g>\n    </g>\n    <g id=\"xtick_5\">\n     <g id=\"line2d_5\"/>\n     <g id=\"text_5\">\n      <!-- Sample5 -->\n      <defs>\n       <path d=\"M 51.421875 22.40625 \nQ 51.421875 17.234375 49.859375 12.9375 \nQ 48.296875 8.640625 45.21875 5.53125 \nQ 42.140625 2.4375 37.578125 0.71875 \nQ 33.015625 -0.984375 27 -0.984375 \nQ 21.578125 -0.984375 17.546875 0.28125 \nQ 13.53125 1.5625 10.734375 3.78125 \nQ 7.953125 6 6.3125 8.984375 \nQ 4.6875 11.96875 4 15.375 \nL 12.890625 16.40625 \nQ 13.421875 14.453125 14.390625 12.625 \nQ 15.375 10.796875 17.0625 9.34375 \nQ 18.75 7.90625 21.21875 7.046875 \nQ 23.6875 6.203125 27.203125 6.203125 \nQ 30.609375 6.203125 33.390625 7.25 \nQ 36.1875 8.296875 38.15625 10.34375 \nQ 40.140625 12.40625 41.203125 15.375 \nQ 42.28125 18.359375 42.28125 22.21875 \nQ 42.28125 25.390625 41.25 28.046875 \nQ 40.234375 30.71875 38.328125 32.640625 \nQ 36.421875 34.578125 33.65625 35.640625 \nQ 30.90625 36.71875 27.390625 36.71875 \nQ 25.203125 36.71875 23.34375 36.328125 \nQ 21.484375 35.9375 19.890625 35.25 \nQ 18.3125 34.578125 17.015625 33.671875 \nQ 15.71875 32.765625 14.59375 31.78125 \nL 6 31.78125 \nL 8.296875 68.796875 \nL 47.40625 68.796875 \nL 47.40625 61.328125 \nL 16.3125 61.328125 \nL 14.984375 39.5 \nQ 17.328125 41.3125 20.84375 42.59375 \nQ 24.359375 43.890625 29.203125 43.890625 \nQ 34.328125 43.890625 38.421875 42.328125 \nQ 42.53125 40.765625 45.40625 37.90625 \nQ 48.296875 35.0625 49.859375 31.109375 \nQ 51.421875 27.15625 51.421875 22.40625 \nz\n\" id=\"LiberationSans-35\"/>\n      </defs>\n      <g style=\"fill:#262626;\" transform=\"translate(142.1645 271.105625)rotate(-90)scale(0.1 -0.1)\">\n       <use xlink:href=\"#LiberationSans-53\"/>\n       <use x=\"66.699219\" xlink:href=\"#LiberationSans-61\"/>\n       <use x=\"122.314453\" xlink:href=\"#LiberationSans-6d\"/>\n       <use x=\"205.615234\" xlink:href=\"#LiberationSans-70\"/>\n       <use x=\"261.230469\" xlink:href=\"#LiberationSans-6c\"/>\n       <use x=\"283.447266\" xlink:href=\"#LiberationSans-65\"/>\n       <use x=\"339.0625\" xlink:href=\"#LiberationSans-35\"/>\n      </g>\n     </g>\n    </g>\n    <g id=\"xtick_6\">\n     <g id=\"line2d_6\"/>\n     <g id=\"text_6\">\n      <!-- Sample6 -->\n      <defs>\n       <path d=\"M 51.21875 22.515625 \nQ 51.21875 17.328125 49.78125 13 \nQ 48.34375 8.6875 45.53125 5.578125 \nQ 42.71875 2.484375 38.5625 0.75 \nQ 34.421875 -0.984375 29 -0.984375 \nQ 23 -0.984375 18.5 1.3125 \nQ 14.015625 3.609375 11.03125 7.921875 \nQ 8.0625 12.25 6.5625 18.53125 \nQ 5.078125 24.8125 5.078125 32.8125 \nQ 5.078125 42 6.765625 48.921875 \nQ 8.453125 55.859375 11.625 60.5 \nQ 14.796875 65.140625 19.359375 67.484375 \nQ 23.921875 69.828125 29.6875 69.828125 \nQ 33.203125 69.828125 36.28125 69.09375 \nQ 39.359375 68.359375 41.875 66.71875 \nQ 44.390625 65.09375 46.28125 62.40625 \nQ 48.1875 59.71875 49.3125 55.8125 \nL 40.921875 54.296875 \nQ 39.546875 58.734375 36.546875 60.71875 \nQ 33.546875 62.703125 29.59375 62.703125 \nQ 25.984375 62.703125 23.046875 60.984375 \nQ 20.125 59.28125 18.0625 55.875 \nQ 16.015625 52.484375 14.90625 47.359375 \nQ 13.8125 42.234375 13.8125 35.40625 \nQ 16.21875 39.84375 20.5625 42.15625 \nQ 24.90625 44.484375 30.515625 44.484375 \nQ 35.203125 44.484375 39.015625 42.96875 \nQ 42.828125 41.453125 45.53125 38.59375 \nQ 48.25 35.75 49.734375 31.671875 \nQ 51.21875 27.59375 51.21875 22.515625 \nz\nM 42.28125 22.125 \nQ 42.28125 25.6875 41.40625 28.5625 \nQ 40.53125 31.453125 38.765625 33.46875 \nQ 37.015625 35.5 34.421875 36.59375 \nQ 31.84375 37.703125 28.421875 37.703125 \nQ 26.03125 37.703125 23.578125 36.984375 \nQ 21.140625 36.28125 19.15625 34.6875 \nQ 17.1875 33.109375 15.9375 30.515625 \nQ 14.703125 27.9375 14.703125 24.21875 \nQ 14.703125 20.40625 15.671875 17.109375 \nQ 16.65625 13.8125 18.484375 11.375 \nQ 20.3125 8.9375 22.890625 7.515625 \nQ 25.484375 6.109375 28.71875 6.109375 \nQ 31.890625 6.109375 34.40625 7.203125 \nQ 36.921875 8.296875 38.671875 10.375 \nQ 40.4375 12.453125 41.359375 15.421875 \nQ 42.28125 18.40625 42.28125 22.125 \nz\n\" id=\"LiberationSans-36\"/>\n      </defs>\n      <g style=\"fill:#262626;\" transform=\"translate(160.0205 271.105625)rotate(-90)scale(0.1 -0.1)\">\n       <use xlink:href=\"#LiberationSans-53\"/>\n       <use x=\"66.699219\" xlink:href=\"#LiberationSans-61\"/>\n       <use x=\"122.314453\" xlink:href=\"#LiberationSans-6d\"/>\n       <use x=\"205.615234\" xlink:href=\"#LiberationSans-70\"/>\n       <use x=\"261.230469\" xlink:href=\"#LiberationSans-6c\"/>\n       <use x=\"283.447266\" xlink:href=\"#LiberationSans-65\"/>\n       <use x=\"339.0625\" xlink:href=\"#LiberationSans-36\"/>\n      </g>\n     </g>\n    </g>\n    <g id=\"xtick_7\">\n     <g id=\"line2d_7\"/>\n     <g id=\"text_7\">\n      <!-- Sample7 -->\n      <defs>\n       <path d=\"M 50.59375 61.671875 \nQ 45.40625 53.765625 41.0625 46.453125 \nQ 36.71875 39.15625 33.59375 31.75 \nQ 30.46875 24.359375 28.734375 16.578125 \nQ 27 8.796875 27 0 \nL 17.828125 0 \nQ 17.828125 8.25 19.78125 16.1875 \nQ 21.734375 24.125 25.046875 31.765625 \nQ 28.375 39.40625 32.765625 46.78125 \nQ 37.15625 54.15625 42.09375 61.328125 \nL 5.125 61.328125 \nL 5.125 68.796875 \nL 50.59375 68.796875 \nz\n\" id=\"LiberationSans-37\"/>\n      </defs>\n      <g style=\"fill:#262626;\" transform=\"translate(177.8765 271.105625)rotate(-90)scale(0.1 -0.1)\">\n       <use xlink:href=\"#LiberationSans-53\"/>\n       <use x=\"66.699219\" xlink:href=\"#LiberationSans-61\"/>\n       <use x=\"122.314453\" xlink:href=\"#LiberationSans-6d\"/>\n       <use x=\"205.615234\" xlink:href=\"#LiberationSans-70\"/>\n       <use x=\"261.230469\" xlink:href=\"#LiberationSans-6c\"/>\n       <use x=\"283.447266\" xlink:href=\"#LiberationSans-65\"/>\n       <use x=\"339.0625\" xlink:href=\"#LiberationSans-37\"/>\n      </g>\n     </g>\n    </g>\n    <g id=\"xtick_8\">\n     <g id=\"line2d_8\"/>\n     <g id=\"text_8\">\n      <!-- Sample8 -->\n      <defs>\n       <path d=\"M 51.265625 19.1875 \nQ 51.265625 14.796875 49.875 11.109375 \nQ 48.484375 7.421875 45.625 4.734375 \nQ 42.78125 2.046875 38.328125 0.53125 \nQ 33.890625 -0.984375 27.828125 -0.984375 \nQ 21.78125 -0.984375 17.359375 0.53125 \nQ 12.9375 2.046875 10.03125 4.703125 \nQ 7.125 7.375 5.734375 11.0625 \nQ 4.34375 14.75 4.34375 19.09375 \nQ 4.34375 22.859375 5.484375 25.78125 \nQ 6.640625 28.71875 8.5625 30.828125 \nQ 10.5 32.953125 12.96875 34.25 \nQ 15.4375 35.546875 18.0625 35.984375 \nL 18.0625 36.1875 \nQ 15.1875 36.859375 12.90625 38.375 \nQ 10.640625 39.890625 9.09375 42.015625 \nQ 7.5625 44.140625 6.75 46.71875 \nQ 5.953125 49.3125 5.953125 52.203125 \nQ 5.953125 55.8125 7.34375 59 \nQ 8.734375 62.203125 11.46875 64.625 \nQ 14.203125 67.046875 18.25 68.4375 \nQ 22.3125 69.828125 27.640625 69.828125 \nQ 33.25 69.828125 37.375 68.40625 \nQ 41.5 67 44.203125 64.578125 \nQ 46.921875 62.15625 48.234375 58.9375 \nQ 49.5625 55.71875 49.5625 52.09375 \nQ 49.5625 49.265625 48.75 46.671875 \nQ 47.953125 44.09375 46.40625 41.96875 \nQ 44.875 39.84375 42.59375 38.34375 \nQ 40.328125 36.859375 37.359375 36.28125 \nL 37.359375 36.078125 \nQ 40.328125 35.59375 42.859375 34.296875 \nQ 45.40625 33.015625 47.265625 30.890625 \nQ 49.125 28.765625 50.1875 25.828125 \nQ 51.265625 22.90625 51.265625 19.1875 \nz\nM 40.4375 51.609375 \nQ 40.4375 54.203125 39.765625 56.34375 \nQ 39.109375 58.5 37.59375 60.03125 \nQ 36.078125 61.578125 33.640625 62.421875 \nQ 31.203125 63.28125 27.640625 63.28125 \nQ 24.171875 63.28125 21.78125 62.421875 \nQ 19.390625 61.578125 17.84375 60.03125 \nQ 16.3125 58.5 15.625 56.34375 \nQ 14.9375 54.203125 14.9375 51.609375 \nQ 14.9375 49.5625 15.46875 47.40625 \nQ 16.015625 45.265625 17.421875 43.5 \nQ 18.84375 41.75 21.328125 40.625 \nQ 23.828125 39.5 27.734375 39.5 \nQ 31.890625 39.5 34.40625 40.625 \nQ 36.921875 41.75 38.25 43.5 \nQ 39.59375 45.265625 40.015625 47.40625 \nQ 40.4375 49.5625 40.4375 51.609375 \nz\nM 42.140625 20.015625 \nQ 42.140625 22.515625 41.453125 24.828125 \nQ 40.765625 27.15625 39.109375 28.9375 \nQ 37.453125 30.71875 34.640625 31.8125 \nQ 31.84375 32.90625 27.640625 32.90625 \nQ 23.78125 32.90625 21.0625 31.8125 \nQ 18.359375 30.71875 16.671875 28.90625 \nQ 14.984375 27.09375 14.203125 24.71875 \nQ 13.421875 22.359375 13.421875 19.828125 \nQ 13.421875 16.65625 14.203125 14.03125 \nQ 14.984375 11.421875 16.6875 9.546875 \nQ 18.40625 7.671875 21.1875 6.640625 \nQ 23.96875 5.609375 27.9375 5.609375 \nQ 31.9375 5.609375 34.671875 6.640625 \nQ 37.40625 7.671875 39.0625 9.546875 \nQ 40.71875 11.421875 41.421875 14.078125 \nQ 42.140625 16.75 42.140625 20.015625 \nz\n\" id=\"LiberationSans-38\"/>\n      </defs>\n      <g style=\"fill:#262626;\" transform=\"translate(195.7325 271.105625)rotate(-90)scale(0.1 -0.1)\">\n       <use xlink:href=\"#LiberationSans-53\"/>\n       <use x=\"66.699219\" xlink:href=\"#LiberationSans-61\"/>\n       <use x=\"122.314453\" xlink:href=\"#LiberationSans-6d\"/>\n       <use x=\"205.615234\" xlink:href=\"#LiberationSans-70\"/>\n       <use x=\"261.230469\" xlink:href=\"#LiberationSans-6c\"/>\n       <use x=\"283.447266\" xlink:href=\"#LiberationSans-65\"/>\n       <use x=\"339.0625\" xlink:href=\"#LiberationSans-38\"/>\n      </g>\n     </g>\n    </g>\n    <g id=\"xtick_9\">\n     <g id=\"line2d_9\"/>\n     <g id=\"text_9\">\n      <!-- Sample9 -->\n      <defs>\n       <path d=\"M 50.875 35.796875 \nQ 50.875 26.609375 49.140625 19.703125 \nQ 47.40625 12.796875 44.1875 8.203125 \nQ 40.96875 3.609375 36.34375 1.3125 \nQ 31.734375 -0.984375 25.984375 -0.984375 \nQ 22.015625 -0.984375 18.84375 -0.171875 \nQ 15.671875 0.640625 13.171875 2.34375 \nQ 10.6875 4.046875 8.921875 6.78125 \nQ 7.171875 9.515625 6.109375 13.375 \nL 14.5 14.703125 \nQ 15.875 10.25 18.78125 8.171875 \nQ 21.6875 6.109375 26.125 6.109375 \nQ 29.6875 6.109375 32.640625 7.78125 \nQ 35.59375 9.46875 37.671875 12.84375 \nQ 39.75 16.21875 40.921875 21.296875 \nQ 42.09375 26.375 42.1875 33.203125 \nQ 41.15625 30.90625 39.375 29.09375 \nQ 37.59375 27.296875 35.328125 26.046875 \nQ 33.0625 24.8125 30.421875 24.140625 \nQ 27.78125 23.484375 25.09375 23.484375 \nQ 20.40625 23.484375 16.625 25.171875 \nQ 12.84375 26.859375 10.203125 29.875 \nQ 7.5625 32.90625 6.125 37.171875 \nQ 4.6875 41.453125 4.6875 46.6875 \nQ 4.6875 52 6.21875 56.296875 \nQ 7.765625 60.59375 10.6875 63.59375 \nQ 13.625 66.609375 17.890625 68.21875 \nQ 22.171875 69.828125 27.59375 69.828125 \nQ 39.0625 69.828125 44.96875 61.328125 \nQ 50.875 52.828125 50.875 35.796875 \nz\nM 41.3125 44.28125 \nQ 41.3125 48.09375 40.40625 51.453125 \nQ 39.5 54.828125 37.71875 57.3125 \nQ 35.9375 59.8125 33.328125 61.25 \nQ 30.71875 62.703125 27.296875 62.703125 \nQ 24.125 62.703125 21.578125 61.578125 \nQ 19.046875 60.453125 17.28125 58.375 \nQ 15.53125 56.296875 14.578125 53.3125 \nQ 13.625 50.34375 13.625 46.6875 \nQ 13.625 43.21875 14.46875 40.234375 \nQ 15.328125 37.25 17.03125 35.078125 \nQ 18.75 32.90625 21.28125 31.65625 \nQ 23.828125 30.421875 27.203125 30.421875 \nQ 29.640625 30.421875 32.15625 31.25 \nQ 34.671875 32.078125 36.6875 33.78125 \nQ 38.71875 35.5 40.015625 38.109375 \nQ 41.3125 40.71875 41.3125 44.28125 \nz\n\" id=\"LiberationSans-39\"/>\n      </defs>\n      <g style=\"fill:#262626;\" transform=\"translate(213.5885 271.105625)rotate(-90)scale(0.1 -0.1)\">\n       <use xlink:href=\"#LiberationSans-53\"/>\n       <use x=\"66.699219\" xlink:href=\"#LiberationSans-61\"/>\n       <use x=\"122.314453\" xlink:href=\"#LiberationSans-6d\"/>\n       <use x=\"205.615234\" xlink:href=\"#LiberationSans-70\"/>\n       <use x=\"261.230469\" xlink:href=\"#LiberationSans-6c\"/>\n       <use x=\"283.447266\" xlink:href=\"#LiberationSans-65\"/>\n       <use x=\"339.0625\" xlink:href=\"#LiberationSans-39\"/>\n      </g>\n     </g>\n    </g>\n    <g id=\"xtick_10\">\n     <g id=\"line2d_10\"/>\n     <g id=\"text_10\">\n      <!-- Sample10 -->\n      <defs>\n       <path d=\"M 51.703125 34.421875 \nQ 51.703125 24.515625 49.828125 17.75 \nQ 47.953125 10.984375 44.703125 6.8125 \nQ 41.453125 2.640625 37.0625 0.828125 \nQ 32.671875 -0.984375 27.6875 -0.984375 \nQ 22.65625 -0.984375 18.3125 0.828125 \nQ 13.96875 2.640625 10.765625 6.78125 \nQ 7.5625 10.9375 5.734375 17.703125 \nQ 3.90625 24.46875 3.90625 34.421875 \nQ 3.90625 44.828125 5.734375 51.640625 \nQ 7.5625 58.453125 10.78125 62.5 \nQ 14.015625 66.546875 18.40625 68.1875 \nQ 22.796875 69.828125 27.984375 69.828125 \nQ 32.90625 69.828125 37.21875 68.1875 \nQ 41.546875 66.546875 44.765625 62.5 \nQ 48 58.453125 49.84375 51.640625 \nQ 51.703125 44.828125 51.703125 34.421875 \nz\nM 42.78125 34.421875 \nQ 42.78125 42.625 41.796875 48.0625 \nQ 40.828125 53.515625 38.921875 56.765625 \nQ 37.015625 60.015625 34.25 61.359375 \nQ 31.5 62.703125 27.984375 62.703125 \nQ 24.265625 62.703125 21.4375 61.328125 \nQ 18.609375 59.96875 16.671875 56.71875 \nQ 14.75 53.46875 13.765625 48.015625 \nQ 12.796875 42.578125 12.796875 34.421875 \nQ 12.796875 26.515625 13.796875 21.09375 \nQ 14.796875 15.671875 16.71875 12.375 \nQ 18.65625 9.078125 21.4375 7.640625 \nQ 24.21875 6.203125 27.78125 6.203125 \nQ 31.25 6.203125 34.03125 7.640625 \nQ 36.8125 9.078125 38.734375 12.375 \nQ 40.671875 15.671875 41.71875 21.09375 \nQ 42.78125 26.515625 42.78125 34.421875 \nz\n\" id=\"LiberationSans-30\"/>\n      </defs>\n      <g style=\"fill:#262626;\" transform=\"translate(231.4445 276.666562)rotate(-90)scale(0.1 -0.1)\">\n       <use xlink:href=\"#LiberationSans-53\"/>\n       <use x=\"66.699219\" xlink:href=\"#LiberationSans-61\"/>\n       <use x=\"122.314453\" xlink:href=\"#LiberationSans-6d\"/>\n       <use x=\"205.615234\" xlink:href=\"#LiberationSans-70\"/>\n       <use x=\"261.230469\" xlink:href=\"#LiberationSans-6c\"/>\n       <use x=\"283.447266\" xlink:href=\"#LiberationSans-65\"/>\n       <use x=\"339.0625\" xlink:href=\"#LiberationSans-31\"/>\n       <use x=\"394.677734\" xlink:href=\"#LiberationSans-30\"/>\n      </g>\n     </g>\n    </g>\n    <g id=\"xtick_11\">\n     <g id=\"line2d_11\"/>\n     <g id=\"text_11\">\n      <!-- Sample11 -->\n      <g style=\"fill:#262626;\" transform=\"translate(249.3005 276.666562)rotate(-90)scale(0.1 -0.1)\">\n       <use xlink:href=\"#LiberationSans-53\"/>\n       <use x=\"66.699219\" xlink:href=\"#LiberationSans-61\"/>\n       <use x=\"122.314453\" xlink:href=\"#LiberationSans-6d\"/>\n       <use x=\"205.615234\" xlink:href=\"#LiberationSans-70\"/>\n       <use x=\"261.230469\" xlink:href=\"#LiberationSans-6c\"/>\n       <use x=\"283.447266\" xlink:href=\"#LiberationSans-65\"/>\n       <use x=\"339.0625\" xlink:href=\"#LiberationSans-31\"/>\n       <use x=\"394.677734\" xlink:href=\"#LiberationSans-31\"/>\n      </g>\n     </g>\n    </g>\n    <g id=\"xtick_12\">\n     <g id=\"line2d_12\"/>\n     <g id=\"text_12\">\n      <!-- Sample12 -->\n      <g style=\"fill:#262626;\" transform=\"translate(267.1565 276.666562)rotate(-90)scale(0.1 -0.1)\">\n       <use xlink:href=\"#LiberationSans-53\"/>\n       <use x=\"66.699219\" xlink:href=\"#LiberationSans-61\"/>\n       <use x=\"122.314453\" xlink:href=\"#LiberationSans-6d\"/>\n       <use x=\"205.615234\" xlink:href=\"#LiberationSans-70\"/>\n       <use x=\"261.230469\" xlink:href=\"#LiberationSans-6c\"/>\n       <use x=\"283.447266\" xlink:href=\"#LiberationSans-65\"/>\n       <use x=\"339.0625\" xlink:href=\"#LiberationSans-31\"/>\n       <use x=\"394.677734\" xlink:href=\"#LiberationSans-32\"/>\n      </g>\n     </g>\n    </g>\n    <g id=\"xtick_13\">\n     <g id=\"line2d_13\"/>\n     <g id=\"text_13\">\n      <!-- Sample13 -->\n      <g style=\"fill:#262626;\" transform=\"translate(285.0125 276.666562)rotate(-90)scale(0.1 -0.1)\">\n       <use xlink:href=\"#LiberationSans-53\"/>\n       <use x=\"66.699219\" xlink:href=\"#LiberationSans-61\"/>\n       <use x=\"122.314453\" xlink:href=\"#LiberationSans-6d\"/>\n       <use x=\"205.615234\" xlink:href=\"#LiberationSans-70\"/>\n       <use x=\"261.230469\" xlink:href=\"#LiberationSans-6c\"/>\n       <use x=\"283.447266\" xlink:href=\"#LiberationSans-65\"/>\n       <use x=\"339.0625\" xlink:href=\"#LiberationSans-31\"/>\n       <use x=\"394.677734\" xlink:href=\"#LiberationSans-33\"/>\n      </g>\n     </g>\n    </g>\n    <g id=\"xtick_14\">\n     <g id=\"line2d_14\"/>\n     <g id=\"text_14\">\n      <!-- Sample14 -->\n      <g style=\"fill:#262626;\" transform=\"translate(302.8685 276.666562)rotate(-90)scale(0.1 -0.1)\">\n       <use xlink:href=\"#LiberationSans-53\"/>\n       <use x=\"66.699219\" xlink:href=\"#LiberationSans-61\"/>\n       <use x=\"122.314453\" xlink:href=\"#LiberationSans-6d\"/>\n       <use x=\"205.615234\" xlink:href=\"#LiberationSans-70\"/>\n       <use x=\"261.230469\" xlink:href=\"#LiberationSans-6c\"/>\n       <use x=\"283.447266\" xlink:href=\"#LiberationSans-65\"/>\n       <use x=\"339.0625\" xlink:href=\"#LiberationSans-31\"/>\n       <use x=\"394.677734\" xlink:href=\"#LiberationSans-34\"/>\n      </g>\n     </g>\n    </g>\n    <g id=\"xtick_15\">\n     <g id=\"line2d_15\"/>\n     <g id=\"text_15\">\n      <!-- Sample15 -->\n      <g style=\"fill:#262626;\" transform=\"translate(320.7245 276.666562)rotate(-90)scale(0.1 -0.1)\">\n       <use xlink:href=\"#LiberationSans-53\"/>\n       <use x=\"66.699219\" xlink:href=\"#LiberationSans-61\"/>\n       <use x=\"122.314453\" xlink:href=\"#LiberationSans-6d\"/>\n       <use x=\"205.615234\" xlink:href=\"#LiberationSans-70\"/>\n       <use x=\"261.230469\" xlink:href=\"#LiberationSans-6c\"/>\n       <use x=\"283.447266\" xlink:href=\"#LiberationSans-65\"/>\n       <use x=\"339.0625\" xlink:href=\"#LiberationSans-31\"/>\n       <use x=\"394.677734\" xlink:href=\"#LiberationSans-35\"/>\n      </g>\n     </g>\n    </g>\n   </g>\n   <g id=\"matplotlib.axis_2\">\n    <g id=\"ytick_1\">\n     <g id=\"line2d_16\"/>\n     <g id=\"text_16\">\n      <!-- Sample1 -->\n      <g style=\"fill:#262626;\" transform=\"translate(12.760938 18.071438)scale(0.1 -0.1)\">\n       <use xlink:href=\"#LiberationSans-53\"/>\n       <use x=\"66.699219\" xlink:href=\"#LiberationSans-61\"/>\n       <use x=\"122.314453\" xlink:href=\"#LiberationSans-6d\"/>\n       <use x=\"205.615234\" xlink:href=\"#LiberationSans-70\"/>\n       <use x=\"261.230469\" xlink:href=\"#LiberationSans-6c\"/>\n       <use x=\"283.447266\" xlink:href=\"#LiberationSans-65\"/>\n       <use x=\"339.0625\" xlink:href=\"#LiberationSans-31\"/>\n      </g>\n     </g>\n    </g>\n    <g id=\"ytick_2\">\n     <g id=\"line2d_17\"/>\n     <g id=\"text_17\">\n      <!-- Sample2 -->\n      <g style=\"fill:#262626;\" transform=\"translate(12.760938 32.567437)scale(0.1 -0.1)\">\n       <use xlink:href=\"#LiberationSans-53\"/>\n       <use x=\"66.699219\" xlink:href=\"#LiberationSans-61\"/>\n       <use x=\"122.314453\" xlink:href=\"#LiberationSans-6d\"/>\n       <use x=\"205.615234\" xlink:href=\"#LiberationSans-70\"/>\n       <use x=\"261.230469\" xlink:href=\"#LiberationSans-6c\"/>\n       <use x=\"283.447266\" xlink:href=\"#LiberationSans-65\"/>\n       <use x=\"339.0625\" xlink:href=\"#LiberationSans-32\"/>\n      </g>\n     </g>\n    </g>\n    <g id=\"ytick_3\">\n     <g id=\"line2d_18\"/>\n     <g id=\"text_18\">\n      <!-- Sample3 -->\n      <g style=\"fill:#262626;\" transform=\"translate(12.760938 47.063437)scale(0.1 -0.1)\">\n       <use xlink:href=\"#LiberationSans-53\"/>\n       <use x=\"66.699219\" xlink:href=\"#LiberationSans-61\"/>\n       <use x=\"122.314453\" xlink:href=\"#LiberationSans-6d\"/>\n       <use x=\"205.615234\" xlink:href=\"#LiberationSans-70\"/>\n       <use x=\"261.230469\" xlink:href=\"#LiberationSans-6c\"/>\n       <use x=\"283.447266\" xlink:href=\"#LiberationSans-65\"/>\n       <use x=\"339.0625\" xlink:href=\"#LiberationSans-33\"/>\n      </g>\n     </g>\n    </g>\n    <g id=\"ytick_4\">\n     <g id=\"line2d_19\"/>\n     <g id=\"text_19\">\n      <!-- Sample4 -->\n      <g style=\"fill:#262626;\" transform=\"translate(12.760938 61.559437)scale(0.1 -0.1)\">\n       <use xlink:href=\"#LiberationSans-53\"/>\n       <use x=\"66.699219\" xlink:href=\"#LiberationSans-61\"/>\n       <use x=\"122.314453\" xlink:href=\"#LiberationSans-6d\"/>\n       <use x=\"205.615234\" xlink:href=\"#LiberationSans-70\"/>\n       <use x=\"261.230469\" xlink:href=\"#LiberationSans-6c\"/>\n       <use x=\"283.447266\" xlink:href=\"#LiberationSans-65\"/>\n       <use x=\"339.0625\" xlink:href=\"#LiberationSans-34\"/>\n      </g>\n     </g>\n    </g>\n    <g id=\"ytick_5\">\n     <g id=\"line2d_20\"/>\n     <g id=\"text_20\">\n      <!-- Sample5 -->\n      <g style=\"fill:#262626;\" transform=\"translate(12.760938 76.055437)scale(0.1 -0.1)\">\n       <use xlink:href=\"#LiberationSans-53\"/>\n       <use x=\"66.699219\" xlink:href=\"#LiberationSans-61\"/>\n       <use x=\"122.314453\" xlink:href=\"#LiberationSans-6d\"/>\n       <use x=\"205.615234\" xlink:href=\"#LiberationSans-70\"/>\n       <use x=\"261.230469\" xlink:href=\"#LiberationSans-6c\"/>\n       <use x=\"283.447266\" xlink:href=\"#LiberationSans-65\"/>\n       <use x=\"339.0625\" xlink:href=\"#LiberationSans-35\"/>\n      </g>\n     </g>\n    </g>\n    <g id=\"ytick_6\">\n     <g id=\"line2d_21\"/>\n     <g id=\"text_21\">\n      <!-- Sample6 -->\n      <g style=\"fill:#262626;\" transform=\"translate(12.760938 90.551437)scale(0.1 -0.1)\">\n       <use xlink:href=\"#LiberationSans-53\"/>\n       <use x=\"66.699219\" xlink:href=\"#LiberationSans-61\"/>\n       <use x=\"122.314453\" xlink:href=\"#LiberationSans-6d\"/>\n       <use x=\"205.615234\" xlink:href=\"#LiberationSans-70\"/>\n       <use x=\"261.230469\" xlink:href=\"#LiberationSans-6c\"/>\n       <use x=\"283.447266\" xlink:href=\"#LiberationSans-65\"/>\n       <use x=\"339.0625\" xlink:href=\"#LiberationSans-36\"/>\n      </g>\n     </g>\n    </g>\n    <g id=\"ytick_7\">\n     <g id=\"line2d_22\"/>\n     <g id=\"text_22\">\n      <!-- Sample7 -->\n      <g style=\"fill:#262626;\" transform=\"translate(12.760938 105.047437)scale(0.1 -0.1)\">\n       <use xlink:href=\"#LiberationSans-53\"/>\n       <use x=\"66.699219\" xlink:href=\"#LiberationSans-61\"/>\n       <use x=\"122.314453\" xlink:href=\"#LiberationSans-6d\"/>\n       <use x=\"205.615234\" xlink:href=\"#LiberationSans-70\"/>\n       <use x=\"261.230469\" xlink:href=\"#LiberationSans-6c\"/>\n       <use x=\"283.447266\" xlink:href=\"#LiberationSans-65\"/>\n       <use x=\"339.0625\" xlink:href=\"#LiberationSans-37\"/>\n      </g>\n     </g>\n    </g>\n    <g id=\"ytick_8\">\n     <g id=\"line2d_23\"/>\n     <g id=\"text_23\">\n      <!-- Sample8 -->\n      <g style=\"fill:#262626;\" transform=\"translate(12.760938 119.543437)scale(0.1 -0.1)\">\n       <use xlink:href=\"#LiberationSans-53\"/>\n       <use x=\"66.699219\" xlink:href=\"#LiberationSans-61\"/>\n       <use x=\"122.314453\" xlink:href=\"#LiberationSans-6d\"/>\n       <use x=\"205.615234\" xlink:href=\"#LiberationSans-70\"/>\n       <use x=\"261.230469\" xlink:href=\"#LiberationSans-6c\"/>\n       <use x=\"283.447266\" xlink:href=\"#LiberationSans-65\"/>\n       <use x=\"339.0625\" xlink:href=\"#LiberationSans-38\"/>\n      </g>\n     </g>\n    </g>\n    <g id=\"ytick_9\">\n     <g id=\"line2d_24\"/>\n     <g id=\"text_24\">\n      <!-- Sample9 -->\n      <g style=\"fill:#262626;\" transform=\"translate(12.760938 134.039437)scale(0.1 -0.1)\">\n       <use xlink:href=\"#LiberationSans-53\"/>\n       <use x=\"66.699219\" xlink:href=\"#LiberationSans-61\"/>\n       <use x=\"122.314453\" xlink:href=\"#LiberationSans-6d\"/>\n       <use x=\"205.615234\" xlink:href=\"#LiberationSans-70\"/>\n       <use x=\"261.230469\" xlink:href=\"#LiberationSans-6c\"/>\n       <use x=\"283.447266\" xlink:href=\"#LiberationSans-65\"/>\n       <use x=\"339.0625\" xlink:href=\"#LiberationSans-39\"/>\n      </g>\n     </g>\n    </g>\n    <g id=\"ytick_10\">\n     <g id=\"line2d_25\"/>\n     <g id=\"text_25\">\n      <!-- Sample10 -->\n      <g style=\"fill:#262626;\" transform=\"translate(7.2 148.535438)scale(0.1 -0.1)\">\n       <use xlink:href=\"#LiberationSans-53\"/>\n       <use x=\"66.699219\" xlink:href=\"#LiberationSans-61\"/>\n       <use x=\"122.314453\" xlink:href=\"#LiberationSans-6d\"/>\n       <use x=\"205.615234\" xlink:href=\"#LiberationSans-70\"/>\n       <use x=\"261.230469\" xlink:href=\"#LiberationSans-6c\"/>\n       <use x=\"283.447266\" xlink:href=\"#LiberationSans-65\"/>\n       <use x=\"339.0625\" xlink:href=\"#LiberationSans-31\"/>\n       <use x=\"394.677734\" xlink:href=\"#LiberationSans-30\"/>\n      </g>\n     </g>\n    </g>\n    <g id=\"ytick_11\">\n     <g id=\"line2d_26\"/>\n     <g id=\"text_26\">\n      <!-- Sample11 -->\n      <g style=\"fill:#262626;\" transform=\"translate(7.2 163.031437)scale(0.1 -0.1)\">\n       <use xlink:href=\"#LiberationSans-53\"/>\n       <use x=\"66.699219\" xlink:href=\"#LiberationSans-61\"/>\n       <use x=\"122.314453\" xlink:href=\"#LiberationSans-6d\"/>\n       <use x=\"205.615234\" xlink:href=\"#LiberationSans-70\"/>\n       <use x=\"261.230469\" xlink:href=\"#LiberationSans-6c\"/>\n       <use x=\"283.447266\" xlink:href=\"#LiberationSans-65\"/>\n       <use x=\"339.0625\" xlink:href=\"#LiberationSans-31\"/>\n       <use x=\"394.677734\" xlink:href=\"#LiberationSans-31\"/>\n      </g>\n     </g>\n    </g>\n    <g id=\"ytick_12\">\n     <g id=\"line2d_27\"/>\n     <g id=\"text_27\">\n      <!-- Sample12 -->\n      <g style=\"fill:#262626;\" transform=\"translate(7.2 177.527437)scale(0.1 -0.1)\">\n       <use xlink:href=\"#LiberationSans-53\"/>\n       <use x=\"66.699219\" xlink:href=\"#LiberationSans-61\"/>\n       <use x=\"122.314453\" xlink:href=\"#LiberationSans-6d\"/>\n       <use x=\"205.615234\" xlink:href=\"#LiberationSans-70\"/>\n       <use x=\"261.230469\" xlink:href=\"#LiberationSans-6c\"/>\n       <use x=\"283.447266\" xlink:href=\"#LiberationSans-65\"/>\n       <use x=\"339.0625\" xlink:href=\"#LiberationSans-31\"/>\n       <use x=\"394.677734\" xlink:href=\"#LiberationSans-32\"/>\n      </g>\n     </g>\n    </g>\n    <g id=\"ytick_13\">\n     <g id=\"line2d_28\"/>\n     <g id=\"text_28\">\n      <!-- Sample13 -->\n      <g style=\"fill:#262626;\" transform=\"translate(7.2 192.023438)scale(0.1 -0.1)\">\n       <use xlink:href=\"#LiberationSans-53\"/>\n       <use x=\"66.699219\" xlink:href=\"#LiberationSans-61\"/>\n       <use x=\"122.314453\" xlink:href=\"#LiberationSans-6d\"/>\n       <use x=\"205.615234\" xlink:href=\"#LiberationSans-70\"/>\n       <use x=\"261.230469\" xlink:href=\"#LiberationSans-6c\"/>\n       <use x=\"283.447266\" xlink:href=\"#LiberationSans-65\"/>\n       <use x=\"339.0625\" xlink:href=\"#LiberationSans-31\"/>\n       <use x=\"394.677734\" xlink:href=\"#LiberationSans-33\"/>\n      </g>\n     </g>\n    </g>\n    <g id=\"ytick_14\">\n     <g id=\"line2d_29\"/>\n     <g id=\"text_29\">\n      <!-- Sample14 -->\n      <g style=\"fill:#262626;\" transform=\"translate(7.2 206.519437)scale(0.1 -0.1)\">\n       <use xlink:href=\"#LiberationSans-53\"/>\n       <use x=\"66.699219\" xlink:href=\"#LiberationSans-61\"/>\n       <use x=\"122.314453\" xlink:href=\"#LiberationSans-6d\"/>\n       <use x=\"205.615234\" xlink:href=\"#LiberationSans-70\"/>\n       <use x=\"261.230469\" xlink:href=\"#LiberationSans-6c\"/>\n       <use x=\"283.447266\" xlink:href=\"#LiberationSans-65\"/>\n       <use x=\"339.0625\" xlink:href=\"#LiberationSans-31\"/>\n       <use x=\"394.677734\" xlink:href=\"#LiberationSans-34\"/>\n      </g>\n     </g>\n    </g>\n    <g id=\"ytick_15\">\n     <g id=\"line2d_30\"/>\n     <g id=\"text_30\">\n      <!-- Sample15 -->\n      <g style=\"fill:#262626;\" transform=\"translate(7.2 221.015437)scale(0.1 -0.1)\">\n       <use xlink:href=\"#LiberationSans-53\"/>\n       <use x=\"66.699219\" xlink:href=\"#LiberationSans-61\"/>\n       <use x=\"122.314453\" xlink:href=\"#LiberationSans-6d\"/>\n       <use x=\"205.615234\" xlink:href=\"#LiberationSans-70\"/>\n       <use x=\"261.230469\" xlink:href=\"#LiberationSans-6c\"/>\n       <use x=\"283.447266\" xlink:href=\"#LiberationSans-65\"/>\n       <use x=\"339.0625\" xlink:href=\"#LiberationSans-31\"/>\n       <use x=\"394.677734\" xlink:href=\"#LiberationSans-35\"/>\n      </g>\n     </g>\n    </g>\n   </g>\n   <g id=\"QuadMesh_1\">\n    <path clip-path=\"url(#p0ecf36c0b1)\" d=\"M 59.226563 7.2 \nL 77.082563 7.2 \nL 77.082563 21.696 \nL 59.226563 21.696 \nL 59.226563 7.2 \n\" style=\"fill:#ffffff;\"/>\n    <path clip-path=\"url(#p0ecf36c0b1)\" d=\"M 77.082563 7.2 \nL 94.938563 7.2 \nL 94.938563 21.696 \nL 77.082563 21.696 \nL 77.082563 7.2 \n\" style=\"fill:#818181;\"/>\n    <path clip-path=\"url(#p0ecf36c0b1)\" d=\"M 94.938563 7.2 \nL 112.794563 7.2 \nL 112.794563 21.696 \nL 94.938563 21.696 \nL 94.938563 7.2 \n\" style=\"fill:#9a9a9a;\"/>\n    <path clip-path=\"url(#p0ecf36c0b1)\" d=\"M 112.794563 7.2 \nL 130.650563 7.2 \nL 130.650563 21.696 \nL 112.794563 21.696 \nL 112.794563 7.2 \n\" style=\"fill:#979797;\"/>\n    <path clip-path=\"url(#p0ecf36c0b1)\" d=\"M 130.650563 7.2 \nL 148.506563 7.2 \nL 148.506563 21.696 \nL 130.650563 21.696 \nL 130.650563 7.2 \n\" style=\"fill:#474747;\"/>\n    <path clip-path=\"url(#p0ecf36c0b1)\" d=\"M 148.506563 7.2 \nL 166.362562 7.2 \nL 166.362562 21.696 \nL 148.506563 21.696 \nL 148.506563 7.2 \n\" style=\"fill:#505050;\"/>\n    <path clip-path=\"url(#p0ecf36c0b1)\" d=\"M 166.362562 7.2 \nL 184.218562 7.2 \nL 184.218562 21.696 \nL 166.362562 21.696 \nL 166.362562 7.2 \n\" style=\"fill:#474747;\"/>\n    <path clip-path=\"url(#p0ecf36c0b1)\" d=\"M 184.218562 7.2 \nL 202.074562 7.2 \nL 202.074562 21.696 \nL 184.218562 21.696 \nL 184.218562 7.2 \n\" style=\"fill:#707070;\"/>\n    <path clip-path=\"url(#p0ecf36c0b1)\" d=\"M 202.074562 7.2 \nL 219.930562 7.2 \nL 219.930562 21.696 \nL 202.074562 21.696 \nL 202.074562 7.2 \n\" style=\"fill:#474747;\"/>\n    <path clip-path=\"url(#p0ecf36c0b1)\" d=\"M 219.930562 7.2 \nL 237.786562 7.2 \nL 237.786562 21.696 \nL 219.930562 21.696 \nL 219.930562 7.2 \n\" style=\"fill:#383838;\"/>\n    <path clip-path=\"url(#p0ecf36c0b1)\" d=\"M 237.786562 7.2 \nL 255.642562 7.2 \nL 255.642562 21.696 \nL 237.786562 21.696 \nL 237.786562 7.2 \n\" style=\"fill:#383838;\"/>\n    <path clip-path=\"url(#p0ecf36c0b1)\" d=\"M 255.642562 7.2 \nL 273.498562 7.2 \nL 273.498562 21.696 \nL 255.642562 21.696 \nL 255.642562 7.2 \n\" style=\"fill:#515151;\"/>\n    <path clip-path=\"url(#p0ecf36c0b1)\" d=\"M 273.498562 7.2 \nL 291.354562 7.2 \nL 291.354562 21.696 \nL 273.498562 21.696 \nL 273.498562 7.2 \n\" style=\"fill:#414141;\"/>\n    <path clip-path=\"url(#p0ecf36c0b1)\" d=\"M 291.354562 7.2 \nL 309.210562 7.2 \nL 309.210562 21.696 \nL 291.354562 21.696 \nL 291.354562 7.2 \n\" style=\"fill:#5d5d5d;\"/>\n    <path clip-path=\"url(#p0ecf36c0b1)\" d=\"M 309.210562 7.2 \nL 327.066562 7.2 \nL 327.066562 21.696 \nL 309.210562 21.696 \nL 309.210562 7.2 \n\" style=\"fill:#606060;\"/>\n    <path clip-path=\"url(#p0ecf36c0b1)\" d=\"M 59.226563 21.696 \nL 77.082563 21.696 \nL 77.082563 36.192 \nL 59.226563 36.192 \nL 59.226563 21.696 \n\" style=\"fill:#818181;\"/>\n    <path clip-path=\"url(#p0ecf36c0b1)\" d=\"M 77.082563 21.696 \nL 94.938563 21.696 \nL 94.938563 36.192 \nL 77.082563 36.192 \nL 77.082563 21.696 \n\" style=\"fill:#ffffff;\"/>\n    <path clip-path=\"url(#p0ecf36c0b1)\" d=\"M 94.938563 21.696 \nL 112.794563 21.696 \nL 112.794563 36.192 \nL 94.938563 36.192 \nL 94.938563 21.696 \n\" style=\"fill:#838383;\"/>\n    <path clip-path=\"url(#p0ecf36c0b1)\" d=\"M 112.794563 21.696 \nL 130.650563 21.696 \nL 130.650563 36.192 \nL 112.794563 36.192 \nL 112.794563 21.696 \n\" style=\"fill:#737373;\"/>\n    <path clip-path=\"url(#p0ecf36c0b1)\" d=\"M 130.650563 21.696 \nL 148.506563 21.696 \nL 148.506563 36.192 \nL 130.650563 36.192 \nL 130.650563 21.696 \n\" style=\"fill:#575757;\"/>\n    <path clip-path=\"url(#p0ecf36c0b1)\" d=\"M 148.506563 21.696 \nL 166.362562 21.696 \nL 166.362562 36.192 \nL 148.506563 36.192 \nL 148.506563 21.696 \n\" style=\"fill:#020202;\"/>\n    <path clip-path=\"url(#p0ecf36c0b1)\" d=\"M 166.362562 21.696 \nL 184.218562 21.696 \nL 184.218562 36.192 \nL 166.362562 36.192 \nL 166.362562 21.696 \n\"/>\n    <path clip-path=\"url(#p0ecf36c0b1)\" d=\"M 184.218562 21.696 \nL 202.074562 21.696 \nL 202.074562 36.192 \nL 184.218562 36.192 \nL 184.218562 21.696 \n\" style=\"fill:#393939;\"/>\n    <path clip-path=\"url(#p0ecf36c0b1)\" d=\"M 202.074562 21.696 \nL 219.930562 21.696 \nL 219.930562 36.192 \nL 202.074562 36.192 \nL 202.074562 21.696 \n\" style=\"fill:#5b5b5b;\"/>\n    <path clip-path=\"url(#p0ecf36c0b1)\" d=\"M 219.930562 21.696 \nL 237.786562 21.696 \nL 237.786562 36.192 \nL 219.930562 36.192 \nL 219.930562 21.696 \n\" style=\"fill:#414141;\"/>\n    <path clip-path=\"url(#p0ecf36c0b1)\" d=\"M 237.786562 21.696 \nL 255.642562 21.696 \nL 255.642562 36.192 \nL 237.786562 36.192 \nL 237.786562 21.696 \n\" style=\"fill:#404040;\"/>\n    <path clip-path=\"url(#p0ecf36c0b1)\" d=\"M 255.642562 21.696 \nL 273.498562 21.696 \nL 273.498562 36.192 \nL 255.642562 36.192 \nL 255.642562 21.696 \n\" style=\"fill:#3f3f3f;\"/>\n    <path clip-path=\"url(#p0ecf36c0b1)\" d=\"M 273.498562 21.696 \nL 291.354562 21.696 \nL 291.354562 36.192 \nL 273.498562 36.192 \nL 273.498562 21.696 \n\" style=\"fill:#414141;\"/>\n    <path clip-path=\"url(#p0ecf36c0b1)\" d=\"M 291.354562 21.696 \nL 309.210562 21.696 \nL 309.210562 36.192 \nL 291.354562 36.192 \nL 291.354562 21.696 \n\" style=\"fill:#404040;\"/>\n    <path clip-path=\"url(#p0ecf36c0b1)\" d=\"M 309.210562 21.696 \nL 327.066562 21.696 \nL 327.066562 36.192 \nL 309.210562 36.192 \nL 309.210562 21.696 \n\" style=\"fill:#4e4e4e;\"/>\n    <path clip-path=\"url(#p0ecf36c0b1)\" d=\"M 59.226563 36.192 \nL 77.082563 36.192 \nL 77.082563 50.688 \nL 59.226563 50.688 \nL 59.226563 36.192 \n\" style=\"fill:#9a9a9a;\"/>\n    <path clip-path=\"url(#p0ecf36c0b1)\" d=\"M 77.082563 36.192 \nL 94.938563 36.192 \nL 94.938563 50.688 \nL 77.082563 50.688 \nL 77.082563 36.192 \n\" style=\"fill:#838383;\"/>\n    <path clip-path=\"url(#p0ecf36c0b1)\" d=\"M 94.938563 36.192 \nL 112.794563 36.192 \nL 112.794563 50.688 \nL 94.938563 50.688 \nL 94.938563 36.192 \n\" style=\"fill:#ffffff;\"/>\n    <path clip-path=\"url(#p0ecf36c0b1)\" d=\"M 112.794563 36.192 \nL 130.650563 36.192 \nL 130.650563 50.688 \nL 112.794563 50.688 \nL 112.794563 36.192 \n\" style=\"fill:#dcdcdc;\"/>\n    <path clip-path=\"url(#p0ecf36c0b1)\" d=\"M 130.650563 36.192 \nL 148.506563 36.192 \nL 148.506563 50.688 \nL 130.650563 50.688 \nL 130.650563 36.192 \n\" style=\"fill:#6e6e6e;\"/>\n    <path clip-path=\"url(#p0ecf36c0b1)\" d=\"M 148.506563 36.192 \nL 166.362562 36.192 \nL 166.362562 50.688 \nL 148.506563 50.688 \nL 148.506563 36.192 \n\" style=\"fill:#393939;\"/>\n    <path clip-path=\"url(#p0ecf36c0b1)\" d=\"M 166.362562 36.192 \nL 184.218562 36.192 \nL 184.218562 50.688 \nL 166.362562 50.688 \nL 166.362562 36.192 \n\" style=\"fill:#2f2f2f;\"/>\n    <path clip-path=\"url(#p0ecf36c0b1)\" d=\"M 184.218562 36.192 \nL 202.074562 36.192 \nL 202.074562 50.688 \nL 184.218562 50.688 \nL 184.218562 36.192 \n\" style=\"fill:#7a7a7a;\"/>\n    <path clip-path=\"url(#p0ecf36c0b1)\" d=\"M 202.074562 36.192 \nL 219.930562 36.192 \nL 219.930562 50.688 \nL 202.074562 50.688 \nL 202.074562 36.192 \n\" style=\"fill:#777777;\"/>\n    <path clip-path=\"url(#p0ecf36c0b1)\" d=\"M 219.930562 36.192 \nL 237.786562 36.192 \nL 237.786562 50.688 \nL 219.930562 50.688 \nL 219.930562 36.192 \n\" style=\"fill:#4a4a4a;\"/>\n    <path clip-path=\"url(#p0ecf36c0b1)\" d=\"M 237.786562 36.192 \nL 255.642562 36.192 \nL 255.642562 50.688 \nL 237.786562 50.688 \nL 237.786562 36.192 \n\" style=\"fill:#4a4a4a;\"/>\n    <path clip-path=\"url(#p0ecf36c0b1)\" d=\"M 255.642562 36.192 \nL 273.498562 36.192 \nL 273.498562 50.688 \nL 255.642562 50.688 \nL 255.642562 36.192 \n\" style=\"fill:#707070;\"/>\n    <path clip-path=\"url(#p0ecf36c0b1)\" d=\"M 273.498562 36.192 \nL 291.354562 36.192 \nL 291.354562 50.688 \nL 273.498562 50.688 \nL 273.498562 36.192 \n\" style=\"fill:#606060;\"/>\n    <path clip-path=\"url(#p0ecf36c0b1)\" d=\"M 291.354562 36.192 \nL 309.210562 36.192 \nL 309.210562 50.688 \nL 291.354562 50.688 \nL 291.354562 36.192 \n\" style=\"fill:#666666;\"/>\n    <path clip-path=\"url(#p0ecf36c0b1)\" d=\"M 309.210562 36.192 \nL 327.066562 36.192 \nL 327.066562 50.688 \nL 309.210562 50.688 \nL 309.210562 36.192 \n\" style=\"fill:#a2a2a2;\"/>\n    <path clip-path=\"url(#p0ecf36c0b1)\" d=\"M 59.226563 50.688 \nL 77.082563 50.688 \nL 77.082563 65.184 \nL 59.226563 65.184 \nL 59.226563 50.688 \n\" style=\"fill:#979797;\"/>\n    <path clip-path=\"url(#p0ecf36c0b1)\" d=\"M 77.082563 50.688 \nL 94.938563 50.688 \nL 94.938563 65.184 \nL 77.082563 65.184 \nL 77.082563 50.688 \n\" style=\"fill:#737373;\"/>\n    <path clip-path=\"url(#p0ecf36c0b1)\" d=\"M 94.938563 50.688 \nL 112.794563 50.688 \nL 112.794563 65.184 \nL 94.938563 65.184 \nL 94.938563 50.688 \n\" style=\"fill:#dcdcdc;\"/>\n    <path clip-path=\"url(#p0ecf36c0b1)\" d=\"M 112.794563 50.688 \nL 130.650563 50.688 \nL 130.650563 65.184 \nL 112.794563 65.184 \nL 112.794563 50.688 \n\" style=\"fill:#ffffff;\"/>\n    <path clip-path=\"url(#p0ecf36c0b1)\" d=\"M 130.650563 50.688 \nL 148.506563 50.688 \nL 148.506563 65.184 \nL 130.650563 65.184 \nL 130.650563 50.688 \n\" style=\"fill:#656565;\"/>\n    <path clip-path=\"url(#p0ecf36c0b1)\" d=\"M 148.506563 50.688 \nL 166.362562 50.688 \nL 166.362562 65.184 \nL 148.506563 65.184 \nL 148.506563 50.688 \n\" style=\"fill:#575757;\"/>\n    <path clip-path=\"url(#p0ecf36c0b1)\" d=\"M 166.362562 50.688 \nL 184.218562 50.688 \nL 184.218562 65.184 \nL 166.362562 65.184 \nL 166.362562 50.688 \n\" style=\"fill:#515151;\"/>\n    <path clip-path=\"url(#p0ecf36c0b1)\" d=\"M 184.218562 50.688 \nL 202.074562 50.688 \nL 202.074562 65.184 \nL 184.218562 65.184 \nL 184.218562 50.688 \n\" style=\"fill:#8f8f8f;\"/>\n    <path clip-path=\"url(#p0ecf36c0b1)\" d=\"M 202.074562 50.688 \nL 219.930562 50.688 \nL 219.930562 65.184 \nL 202.074562 65.184 \nL 202.074562 50.688 \n\" style=\"fill:#757575;\"/>\n    <path clip-path=\"url(#p0ecf36c0b1)\" d=\"M 219.930562 50.688 \nL 237.786562 50.688 \nL 237.786562 65.184 \nL 219.930562 65.184 \nL 219.930562 50.688 \n\" style=\"fill:#4b4b4b;\"/>\n    <path clip-path=\"url(#p0ecf36c0b1)\" d=\"M 237.786562 50.688 \nL 255.642562 50.688 \nL 255.642562 65.184 \nL 237.786562 65.184 \nL 237.786562 50.688 \n\" style=\"fill:#505050;\"/>\n    <path clip-path=\"url(#p0ecf36c0b1)\" d=\"M 255.642562 50.688 \nL 273.498562 50.688 \nL 273.498562 65.184 \nL 255.642562 65.184 \nL 255.642562 50.688 \n\" style=\"fill:#757575;\"/>\n    <path clip-path=\"url(#p0ecf36c0b1)\" d=\"M 273.498562 50.688 \nL 291.354562 50.688 \nL 291.354562 65.184 \nL 273.498562 65.184 \nL 273.498562 50.688 \n\" style=\"fill:#646464;\"/>\n    <path clip-path=\"url(#p0ecf36c0b1)\" d=\"M 291.354562 50.688 \nL 309.210562 50.688 \nL 309.210562 65.184 \nL 291.354562 65.184 \nL 291.354562 50.688 \n\" style=\"fill:#787878;\"/>\n    <path clip-path=\"url(#p0ecf36c0b1)\" d=\"M 309.210562 50.688 \nL 327.066562 50.688 \nL 327.066562 65.184 \nL 309.210562 65.184 \nL 309.210562 50.688 \n\" style=\"fill:#c7c7c7;\"/>\n    <path clip-path=\"url(#p0ecf36c0b1)\" d=\"M 59.226563 65.184 \nL 77.082563 65.184 \nL 77.082563 79.68 \nL 59.226563 79.68 \nL 59.226563 65.184 \n\" style=\"fill:#474747;\"/>\n    <path clip-path=\"url(#p0ecf36c0b1)\" d=\"M 77.082563 65.184 \nL 94.938563 65.184 \nL 94.938563 79.68 \nL 77.082563 79.68 \nL 77.082563 65.184 \n\" style=\"fill:#575757;\"/>\n    <path clip-path=\"url(#p0ecf36c0b1)\" d=\"M 94.938563 65.184 \nL 112.794563 65.184 \nL 112.794563 79.68 \nL 94.938563 79.68 \nL 94.938563 65.184 \n\" style=\"fill:#6e6e6e;\"/>\n    <path clip-path=\"url(#p0ecf36c0b1)\" d=\"M 112.794563 65.184 \nL 130.650563 65.184 \nL 130.650563 79.68 \nL 112.794563 79.68 \nL 112.794563 65.184 \n\" style=\"fill:#656565;\"/>\n    <path clip-path=\"url(#p0ecf36c0b1)\" d=\"M 130.650563 65.184 \nL 148.506563 65.184 \nL 148.506563 79.68 \nL 130.650563 79.68 \nL 130.650563 65.184 \n\" style=\"fill:#ffffff;\"/>\n    <path clip-path=\"url(#p0ecf36c0b1)\" d=\"M 148.506563 65.184 \nL 166.362562 65.184 \nL 166.362562 79.68 \nL 148.506563 79.68 \nL 148.506563 65.184 \n\" style=\"fill:#1a1a1a;\"/>\n    <path clip-path=\"url(#p0ecf36c0b1)\" d=\"M 166.362562 65.184 \nL 184.218562 65.184 \nL 184.218562 79.68 \nL 166.362562 79.68 \nL 166.362562 65.184 \n\" style=\"fill:#131313;\"/>\n    <path clip-path=\"url(#p0ecf36c0b1)\" d=\"M 184.218562 65.184 \nL 202.074562 65.184 \nL 202.074562 79.68 \nL 184.218562 79.68 \nL 184.218562 65.184 \n\" style=\"fill:#5f5f5f;\"/>\n    <path clip-path=\"url(#p0ecf36c0b1)\" d=\"M 202.074562 65.184 \nL 219.930562 65.184 \nL 219.930562 79.68 \nL 202.074562 79.68 \nL 202.074562 65.184 \n\" style=\"fill:#c3c3c3;\"/>\n    <path clip-path=\"url(#p0ecf36c0b1)\" d=\"M 219.930562 65.184 \nL 237.786562 65.184 \nL 237.786562 79.68 \nL 219.930562 79.68 \nL 219.930562 65.184 \n\" style=\"fill:#aaaaaa;\"/>\n    <path clip-path=\"url(#p0ecf36c0b1)\" d=\"M 237.786562 65.184 \nL 255.642562 65.184 \nL 255.642562 79.68 \nL 237.786562 79.68 \nL 237.786562 65.184 \n\" style=\"fill:#9d9d9d;\"/>\n    <path clip-path=\"url(#p0ecf36c0b1)\" d=\"M 255.642562 65.184 \nL 273.498562 65.184 \nL 273.498562 79.68 \nL 255.642562 79.68 \nL 255.642562 65.184 \n\" style=\"fill:#6b6b6b;\"/>\n    <path clip-path=\"url(#p0ecf36c0b1)\" d=\"M 273.498562 65.184 \nL 291.354562 65.184 \nL 291.354562 79.68 \nL 273.498562 79.68 \nL 273.498562 65.184 \n\" style=\"fill:#a3a3a3;\"/>\n    <path clip-path=\"url(#p0ecf36c0b1)\" d=\"M 291.354562 65.184 \nL 309.210562 65.184 \nL 309.210562 79.68 \nL 291.354562 79.68 \nL 291.354562 65.184 \n\" style=\"fill:#666666;\"/>\n    <path clip-path=\"url(#p0ecf36c0b1)\" d=\"M 309.210562 65.184 \nL 327.066562 65.184 \nL 327.066562 79.68 \nL 309.210562 79.68 \nL 309.210562 65.184 \n\" style=\"fill:#303030;\"/>\n    <path clip-path=\"url(#p0ecf36c0b1)\" d=\"M 59.226563 79.68 \nL 77.082563 79.68 \nL 77.082563 94.176 \nL 59.226563 94.176 \nL 59.226563 79.68 \n\" style=\"fill:#505050;\"/>\n    <path clip-path=\"url(#p0ecf36c0b1)\" d=\"M 77.082563 79.68 \nL 94.938563 79.68 \nL 94.938563 94.176 \nL 77.082563 94.176 \nL 77.082563 79.68 \n\" style=\"fill:#020202;\"/>\n    <path clip-path=\"url(#p0ecf36c0b1)\" d=\"M 94.938563 79.68 \nL 112.794563 79.68 \nL 112.794563 94.176 \nL 94.938563 94.176 \nL 94.938563 79.68 \n\" style=\"fill:#393939;\"/>\n    <path clip-path=\"url(#p0ecf36c0b1)\" d=\"M 112.794563 79.68 \nL 130.650563 79.68 \nL 130.650563 94.176 \nL 112.794563 94.176 \nL 112.794563 79.68 \n\" style=\"fill:#575757;\"/>\n    <path clip-path=\"url(#p0ecf36c0b1)\" d=\"M 130.650563 79.68 \nL 148.506563 79.68 \nL 148.506563 94.176 \nL 130.650563 94.176 \nL 130.650563 79.68 \n\" style=\"fill:#1a1a1a;\"/>\n    <path clip-path=\"url(#p0ecf36c0b1)\" d=\"M 148.506563 79.68 \nL 166.362562 79.68 \nL 166.362562 94.176 \nL 148.506563 94.176 \nL 148.506563 79.68 \n\" style=\"fill:#ffffff;\"/>\n    <path clip-path=\"url(#p0ecf36c0b1)\" d=\"M 166.362562 79.68 \nL 184.218562 79.68 \nL 184.218562 94.176 \nL 166.362562 94.176 \nL 166.362562 79.68 \n\" style=\"fill:#e6e6e6;\"/>\n    <path clip-path=\"url(#p0ecf36c0b1)\" d=\"M 184.218562 79.68 \nL 202.074562 79.68 \nL 202.074562 94.176 \nL 184.218562 94.176 \nL 184.218562 79.68 \n\" style=\"fill:#a5a5a5;\"/>\n    <path clip-path=\"url(#p0ecf36c0b1)\" d=\"M 202.074562 79.68 \nL 219.930562 79.68 \nL 219.930562 94.176 \nL 202.074562 94.176 \nL 202.074562 79.68 \n\" style=\"fill:#161616;\"/>\n    <path clip-path=\"url(#p0ecf36c0b1)\" d=\"M 219.930562 79.68 \nL 237.786562 79.68 \nL 237.786562 94.176 \nL 219.930562 94.176 \nL 219.930562 79.68 \n\" style=\"fill:#0e0e0e;\"/>\n    <path clip-path=\"url(#p0ecf36c0b1)\" d=\"M 237.786562 79.68 \nL 255.642562 79.68 \nL 255.642562 94.176 \nL 237.786562 94.176 \nL 237.786562 79.68 \n\" style=\"fill:#171717;\"/>\n    <path clip-path=\"url(#p0ecf36c0b1)\" d=\"M 255.642562 79.68 \nL 273.498562 79.68 \nL 273.498562 94.176 \nL 255.642562 94.176 \nL 255.642562 79.68 \n\" style=\"fill:#8a8a8a;\"/>\n    <path clip-path=\"url(#p0ecf36c0b1)\" d=\"M 273.498562 79.68 \nL 291.354562 79.68 \nL 291.354562 94.176 \nL 273.498562 94.176 \nL 273.498562 79.68 \n\" style=\"fill:#616161;\"/>\n    <path clip-path=\"url(#p0ecf36c0b1)\" d=\"M 291.354562 79.68 \nL 309.210562 79.68 \nL 309.210562 94.176 \nL 291.354562 94.176 \nL 291.354562 79.68 \n\" style=\"fill:#959595;\"/>\n    <path clip-path=\"url(#p0ecf36c0b1)\" d=\"M 309.210562 79.68 \nL 327.066562 79.68 \nL 327.066562 94.176 \nL 309.210562 94.176 \nL 309.210562 79.68 \n\" style=\"fill:#737373;\"/>\n    <path clip-path=\"url(#p0ecf36c0b1)\" d=\"M 59.226563 94.176 \nL 77.082563 94.176 \nL 77.082563 108.672 \nL 59.226563 108.672 \nL 59.226563 94.176 \n\" style=\"fill:#474747;\"/>\n    <path clip-path=\"url(#p0ecf36c0b1)\" d=\"M 77.082563 94.176 \nL 94.938563 94.176 \nL 94.938563 108.672 \nL 77.082563 108.672 \nL 77.082563 94.176 \n\"/>\n    <path clip-path=\"url(#p0ecf36c0b1)\" d=\"M 94.938563 94.176 \nL 112.794563 94.176 \nL 112.794563 108.672 \nL 94.938563 108.672 \nL 94.938563 94.176 \n\" style=\"fill:#2f2f2f;\"/>\n    <path clip-path=\"url(#p0ecf36c0b1)\" d=\"M 112.794563 94.176 \nL 130.650563 94.176 \nL 130.650563 108.672 \nL 112.794563 108.672 \nL 112.794563 94.176 \n\" style=\"fill:#515151;\"/>\n    <path clip-path=\"url(#p0ecf36c0b1)\" d=\"M 130.650563 94.176 \nL 148.506563 94.176 \nL 148.506563 108.672 \nL 130.650563 108.672 \nL 130.650563 94.176 \n\" style=\"fill:#131313;\"/>\n    <path clip-path=\"url(#p0ecf36c0b1)\" d=\"M 148.506563 94.176 \nL 166.362562 94.176 \nL 166.362562 108.672 \nL 148.506563 108.672 \nL 148.506563 94.176 \n\" style=\"fill:#e6e6e6;\"/>\n    <path clip-path=\"url(#p0ecf36c0b1)\" d=\"M 166.362562 94.176 \nL 184.218562 94.176 \nL 184.218562 108.672 \nL 166.362562 108.672 \nL 166.362562 94.176 \n\" style=\"fill:#ffffff;\"/>\n    <path clip-path=\"url(#p0ecf36c0b1)\" d=\"M 184.218562 94.176 \nL 202.074562 94.176 \nL 202.074562 108.672 \nL 184.218562 108.672 \nL 184.218562 94.176 \n\" style=\"fill:#999999;\"/>\n    <path clip-path=\"url(#p0ecf36c0b1)\" d=\"M 202.074562 94.176 \nL 219.930562 94.176 \nL 219.930562 108.672 \nL 202.074562 108.672 \nL 202.074562 94.176 \n\" style=\"fill:#101010;\"/>\n    <path clip-path=\"url(#p0ecf36c0b1)\" d=\"M 219.930562 94.176 \nL 237.786562 94.176 \nL 237.786562 108.672 \nL 219.930562 108.672 \nL 219.930562 94.176 \n\" style=\"fill:#0c0c0c;\"/>\n    <path clip-path=\"url(#p0ecf36c0b1)\" d=\"M 237.786562 94.176 \nL 255.642562 94.176 \nL 255.642562 108.672 \nL 237.786562 108.672 \nL 237.786562 94.176 \n\" style=\"fill:#131313;\"/>\n    <path clip-path=\"url(#p0ecf36c0b1)\" d=\"M 255.642562 94.176 \nL 273.498562 94.176 \nL 273.498562 108.672 \nL 255.642562 108.672 \nL 255.642562 94.176 \n\" style=\"fill:#7b7b7b;\"/>\n    <path clip-path=\"url(#p0ecf36c0b1)\" d=\"M 273.498562 94.176 \nL 291.354562 94.176 \nL 291.354562 108.672 \nL 273.498562 108.672 \nL 273.498562 94.176 \n\" style=\"fill:#5a5a5a;\"/>\n    <path clip-path=\"url(#p0ecf36c0b1)\" d=\"M 291.354562 94.176 \nL 309.210562 94.176 \nL 309.210562 108.672 \nL 291.354562 108.672 \nL 291.354562 94.176 \n\" style=\"fill:#929292;\"/>\n    <path clip-path=\"url(#p0ecf36c0b1)\" d=\"M 309.210562 94.176 \nL 327.066562 94.176 \nL 327.066562 108.672 \nL 309.210562 108.672 \nL 309.210562 94.176 \n\" style=\"fill:#757575;\"/>\n    <path clip-path=\"url(#p0ecf36c0b1)\" d=\"M 59.226563 108.672 \nL 77.082563 108.672 \nL 77.082563 123.168 \nL 59.226563 123.168 \nL 59.226563 108.672 \n\" style=\"fill:#707070;\"/>\n    <path clip-path=\"url(#p0ecf36c0b1)\" d=\"M 77.082563 108.672 \nL 94.938563 108.672 \nL 94.938563 123.168 \nL 77.082563 123.168 \nL 77.082563 108.672 \n\" style=\"fill:#393939;\"/>\n    <path clip-path=\"url(#p0ecf36c0b1)\" d=\"M 94.938563 108.672 \nL 112.794563 108.672 \nL 112.794563 123.168 \nL 94.938563 123.168 \nL 94.938563 108.672 \n\" style=\"fill:#7a7a7a;\"/>\n    <path clip-path=\"url(#p0ecf36c0b1)\" d=\"M 112.794563 108.672 \nL 130.650563 108.672 \nL 130.650563 123.168 \nL 112.794563 123.168 \nL 112.794563 108.672 \n\" style=\"fill:#8f8f8f;\"/>\n    <path clip-path=\"url(#p0ecf36c0b1)\" d=\"M 130.650563 108.672 \nL 148.506563 108.672 \nL 148.506563 123.168 \nL 130.650563 123.168 \nL 130.650563 108.672 \n\" style=\"fill:#5f5f5f;\"/>\n    <path clip-path=\"url(#p0ecf36c0b1)\" d=\"M 148.506563 108.672 \nL 166.362562 108.672 \nL 166.362562 123.168 \nL 148.506563 123.168 \nL 148.506563 108.672 \n\" style=\"fill:#a5a5a5;\"/>\n    <path clip-path=\"url(#p0ecf36c0b1)\" d=\"M 166.362562 108.672 \nL 184.218562 108.672 \nL 184.218562 123.168 \nL 166.362562 123.168 \nL 166.362562 108.672 \n\" style=\"fill:#999999;\"/>\n    <path clip-path=\"url(#p0ecf36c0b1)\" d=\"M 184.218562 108.672 \nL 202.074562 108.672 \nL 202.074562 123.168 \nL 184.218562 123.168 \nL 184.218562 108.672 \n\" style=\"fill:#ffffff;\"/>\n    <path clip-path=\"url(#p0ecf36c0b1)\" d=\"M 202.074562 108.672 \nL 219.930562 108.672 \nL 219.930562 123.168 \nL 202.074562 123.168 \nL 202.074562 108.672 \n\" style=\"fill:#616161;\"/>\n    <path clip-path=\"url(#p0ecf36c0b1)\" d=\"M 219.930562 108.672 \nL 237.786562 108.672 \nL 237.786562 123.168 \nL 219.930562 123.168 \nL 219.930562 108.672 \n\" style=\"fill:#525252;\"/>\n    <path clip-path=\"url(#p0ecf36c0b1)\" d=\"M 237.786562 108.672 \nL 255.642562 108.672 \nL 255.642562 123.168 \nL 237.786562 123.168 \nL 237.786562 108.672 \n\" style=\"fill:#585858;\"/>\n    <path clip-path=\"url(#p0ecf36c0b1)\" d=\"M 255.642562 108.672 \nL 273.498562 108.672 \nL 273.498562 123.168 \nL 255.642562 123.168 \nL 255.642562 108.672 \n\" style=\"fill:#d6d6d6;\"/>\n    <path clip-path=\"url(#p0ecf36c0b1)\" d=\"M 273.498562 108.672 \nL 291.354562 108.672 \nL 291.354562 123.168 \nL 273.498562 123.168 \nL 273.498562 108.672 \n\" style=\"fill:#ababab;\"/>\n    <path clip-path=\"url(#p0ecf36c0b1)\" d=\"M 291.354562 108.672 \nL 309.210562 108.672 \nL 309.210562 123.168 \nL 291.354562 123.168 \nL 291.354562 108.672 \n\" style=\"fill:#c5c5c5;\"/>\n    <path clip-path=\"url(#p0ecf36c0b1)\" d=\"M 309.210562 108.672 \nL 327.066562 108.672 \nL 327.066562 123.168 \nL 309.210562 123.168 \nL 309.210562 108.672 \n\" style=\"fill:#919191;\"/>\n    <path clip-path=\"url(#p0ecf36c0b1)\" d=\"M 59.226563 123.168 \nL 77.082563 123.168 \nL 77.082563 137.664 \nL 59.226563 137.664 \nL 59.226563 123.168 \n\" style=\"fill:#474747;\"/>\n    <path clip-path=\"url(#p0ecf36c0b1)\" d=\"M 77.082563 123.168 \nL 94.938563 123.168 \nL 94.938563 137.664 \nL 77.082563 137.664 \nL 77.082563 123.168 \n\" style=\"fill:#5b5b5b;\"/>\n    <path clip-path=\"url(#p0ecf36c0b1)\" d=\"M 94.938563 123.168 \nL 112.794563 123.168 \nL 112.794563 137.664 \nL 94.938563 137.664 \nL 94.938563 123.168 \n\" style=\"fill:#777777;\"/>\n    <path clip-path=\"url(#p0ecf36c0b1)\" d=\"M 112.794563 123.168 \nL 130.650563 123.168 \nL 130.650563 137.664 \nL 112.794563 137.664 \nL 112.794563 123.168 \n\" style=\"fill:#757575;\"/>\n    <path clip-path=\"url(#p0ecf36c0b1)\" d=\"M 130.650563 123.168 \nL 148.506563 123.168 \nL 148.506563 137.664 \nL 130.650563 137.664 \nL 130.650563 123.168 \n\" style=\"fill:#c3c3c3;\"/>\n    <path clip-path=\"url(#p0ecf36c0b1)\" d=\"M 148.506563 123.168 \nL 166.362562 123.168 \nL 166.362562 137.664 \nL 148.506563 137.664 \nL 148.506563 123.168 \n\" style=\"fill:#161616;\"/>\n    <path clip-path=\"url(#p0ecf36c0b1)\" d=\"M 166.362562 123.168 \nL 184.218562 123.168 \nL 184.218562 137.664 \nL 166.362562 137.664 \nL 166.362562 123.168 \n\" style=\"fill:#101010;\"/>\n    <path clip-path=\"url(#p0ecf36c0b1)\" d=\"M 184.218562 123.168 \nL 202.074562 123.168 \nL 202.074562 137.664 \nL 184.218562 137.664 \nL 184.218562 123.168 \n\" style=\"fill:#616161;\"/>\n    <path clip-path=\"url(#p0ecf36c0b1)\" d=\"M 202.074562 123.168 \nL 219.930562 123.168 \nL 219.930562 137.664 \nL 202.074562 137.664 \nL 202.074562 123.168 \n\" style=\"fill:#ffffff;\"/>\n    <path clip-path=\"url(#p0ecf36c0b1)\" d=\"M 219.930562 123.168 \nL 237.786562 123.168 \nL 237.786562 137.664 \nL 219.930562 137.664 \nL 219.930562 123.168 \n\" style=\"fill:#c5c5c5;\"/>\n    <path clip-path=\"url(#p0ecf36c0b1)\" d=\"M 237.786562 123.168 \nL 255.642562 123.168 \nL 255.642562 137.664 \nL 237.786562 137.664 \nL 237.786562 123.168 \n\" style=\"fill:#c2c2c2;\"/>\n    <path clip-path=\"url(#p0ecf36c0b1)\" d=\"M 255.642562 123.168 \nL 273.498562 123.168 \nL 273.498562 137.664 \nL 255.642562 137.664 \nL 255.642562 123.168 \n\" style=\"fill:#666666;\"/>\n    <path clip-path=\"url(#p0ecf36c0b1)\" d=\"M 273.498562 123.168 \nL 291.354562 123.168 \nL 291.354562 137.664 \nL 273.498562 137.664 \nL 273.498562 123.168 \n\" style=\"fill:#979797;\"/>\n    <path clip-path=\"url(#p0ecf36c0b1)\" d=\"M 291.354562 123.168 \nL 309.210562 123.168 \nL 309.210562 137.664 \nL 291.354562 137.664 \nL 291.354562 123.168 \n\" style=\"fill:#626262;\"/>\n    <path clip-path=\"url(#p0ecf36c0b1)\" d=\"M 309.210562 123.168 \nL 327.066562 123.168 \nL 327.066562 137.664 \nL 309.210562 137.664 \nL 309.210562 123.168 \n\" style=\"fill:#555555;\"/>\n    <path clip-path=\"url(#p0ecf36c0b1)\" d=\"M 59.226563 137.664 \nL 77.082563 137.664 \nL 77.082563 152.16 \nL 59.226563 152.16 \nL 59.226563 137.664 \n\" style=\"fill:#383838;\"/>\n    <path clip-path=\"url(#p0ecf36c0b1)\" d=\"M 77.082563 137.664 \nL 94.938563 137.664 \nL 94.938563 152.16 \nL 77.082563 152.16 \nL 77.082563 137.664 \n\" style=\"fill:#414141;\"/>\n    <path clip-path=\"url(#p0ecf36c0b1)\" d=\"M 94.938563 137.664 \nL 112.794563 137.664 \nL 112.794563 152.16 \nL 94.938563 152.16 \nL 94.938563 137.664 \n\" style=\"fill:#4a4a4a;\"/>\n    <path clip-path=\"url(#p0ecf36c0b1)\" d=\"M 112.794563 137.664 \nL 130.650563 137.664 \nL 130.650563 152.16 \nL 112.794563 152.16 \nL 112.794563 137.664 \n\" style=\"fill:#4b4b4b;\"/>\n    <path clip-path=\"url(#p0ecf36c0b1)\" d=\"M 130.650563 137.664 \nL 148.506563 137.664 \nL 148.506563 152.16 \nL 130.650563 152.16 \nL 130.650563 137.664 \n\" style=\"fill:#aaaaaa;\"/>\n    <path clip-path=\"url(#p0ecf36c0b1)\" d=\"M 148.506563 137.664 \nL 166.362562 137.664 \nL 166.362562 152.16 \nL 148.506563 152.16 \nL 148.506563 137.664 \n\" style=\"fill:#0e0e0e;\"/>\n    <path clip-path=\"url(#p0ecf36c0b1)\" d=\"M 166.362562 137.664 \nL 184.218562 137.664 \nL 184.218562 152.16 \nL 166.362562 152.16 \nL 166.362562 137.664 \n\" style=\"fill:#0c0c0c;\"/>\n    <path clip-path=\"url(#p0ecf36c0b1)\" d=\"M 184.218562 137.664 \nL 202.074562 137.664 \nL 202.074562 152.16 \nL 184.218562 152.16 \nL 184.218562 137.664 \n\" style=\"fill:#525252;\"/>\n    <path clip-path=\"url(#p0ecf36c0b1)\" d=\"M 202.074562 137.664 \nL 219.930562 137.664 \nL 219.930562 152.16 \nL 202.074562 152.16 \nL 202.074562 137.664 \n\" style=\"fill:#c5c5c5;\"/>\n    <path clip-path=\"url(#p0ecf36c0b1)\" d=\"M 219.930562 137.664 \nL 237.786562 137.664 \nL 237.786562 152.16 \nL 219.930562 152.16 \nL 219.930562 137.664 \n\" style=\"fill:#ffffff;\"/>\n    <path clip-path=\"url(#p0ecf36c0b1)\" d=\"M 237.786562 137.664 \nL 255.642562 137.664 \nL 255.642562 152.16 \nL 237.786562 152.16 \nL 237.786562 137.664 \n\" style=\"fill:#e8e8e8;\"/>\n    <path clip-path=\"url(#p0ecf36c0b1)\" d=\"M 255.642562 137.664 \nL 273.498562 137.664 \nL 273.498562 152.16 \nL 255.642562 152.16 \nL 255.642562 137.664 \n\" style=\"fill:#555555;\"/>\n    <path clip-path=\"url(#p0ecf36c0b1)\" d=\"M 273.498562 137.664 \nL 291.354562 137.664 \nL 291.354562 152.16 \nL 273.498562 152.16 \nL 273.498562 137.664 \n\" style=\"fill:#858585;\"/>\n    <path clip-path=\"url(#p0ecf36c0b1)\" d=\"M 291.354562 137.664 \nL 309.210562 137.664 \nL 309.210562 152.16 \nL 291.354562 152.16 \nL 291.354562 137.664 \n\" style=\"fill:#505050;\"/>\n    <path clip-path=\"url(#p0ecf36c0b1)\" d=\"M 309.210562 137.664 \nL 327.066562 137.664 \nL 327.066562 152.16 \nL 309.210562 152.16 \nL 309.210562 137.664 \n\" style=\"fill:#1e1e1e;\"/>\n    <path clip-path=\"url(#p0ecf36c0b1)\" d=\"M 59.226563 152.16 \nL 77.082563 152.16 \nL 77.082563 166.656 \nL 59.226563 166.656 \nL 59.226563 152.16 \n\" style=\"fill:#383838;\"/>\n    <path clip-path=\"url(#p0ecf36c0b1)\" d=\"M 77.082563 152.16 \nL 94.938563 152.16 \nL 94.938563 166.656 \nL 77.082563 166.656 \nL 77.082563 152.16 \n\" style=\"fill:#404040;\"/>\n    <path clip-path=\"url(#p0ecf36c0b1)\" d=\"M 94.938563 152.16 \nL 112.794563 152.16 \nL 112.794563 166.656 \nL 94.938563 166.656 \nL 94.938563 152.16 \n\" style=\"fill:#4a4a4a;\"/>\n    <path clip-path=\"url(#p0ecf36c0b1)\" d=\"M 112.794563 152.16 \nL 130.650563 152.16 \nL 130.650563 166.656 \nL 112.794563 166.656 \nL 112.794563 152.16 \n\" style=\"fill:#505050;\"/>\n    <path clip-path=\"url(#p0ecf36c0b1)\" d=\"M 130.650563 152.16 \nL 148.506563 152.16 \nL 148.506563 166.656 \nL 130.650563 166.656 \nL 130.650563 152.16 \n\" style=\"fill:#9d9d9d;\"/>\n    <path clip-path=\"url(#p0ecf36c0b1)\" d=\"M 148.506563 152.16 \nL 166.362562 152.16 \nL 166.362562 166.656 \nL 148.506563 166.656 \nL 148.506563 152.16 \n\" style=\"fill:#171717;\"/>\n    <path clip-path=\"url(#p0ecf36c0b1)\" d=\"M 166.362562 152.16 \nL 184.218562 152.16 \nL 184.218562 166.656 \nL 166.362562 166.656 \nL 166.362562 152.16 \n\" style=\"fill:#131313;\"/>\n    <path clip-path=\"url(#p0ecf36c0b1)\" d=\"M 184.218562 152.16 \nL 202.074562 152.16 \nL 202.074562 166.656 \nL 184.218562 166.656 \nL 184.218562 152.16 \n\" style=\"fill:#585858;\"/>\n    <path clip-path=\"url(#p0ecf36c0b1)\" d=\"M 202.074562 152.16 \nL 219.930562 152.16 \nL 219.930562 166.656 \nL 202.074562 166.656 \nL 202.074562 152.16 \n\" style=\"fill:#c2c2c2;\"/>\n    <path clip-path=\"url(#p0ecf36c0b1)\" d=\"M 219.930562 152.16 \nL 237.786562 152.16 \nL 237.786562 166.656 \nL 219.930562 166.656 \nL 219.930562 152.16 \n\" style=\"fill:#e8e8e8;\"/>\n    <path clip-path=\"url(#p0ecf36c0b1)\" d=\"M 237.786562 152.16 \nL 255.642562 152.16 \nL 255.642562 166.656 \nL 237.786562 166.656 \nL 237.786562 152.16 \n\" style=\"fill:#ffffff;\"/>\n    <path clip-path=\"url(#p0ecf36c0b1)\" d=\"M 255.642562 152.16 \nL 273.498562 152.16 \nL 273.498562 166.656 \nL 255.642562 166.656 \nL 255.642562 152.16 \n\" style=\"fill:#5e5e5e;\"/>\n    <path clip-path=\"url(#p0ecf36c0b1)\" d=\"M 273.498562 152.16 \nL 291.354562 152.16 \nL 291.354562 166.656 \nL 273.498562 166.656 \nL 273.498562 152.16 \n\" style=\"fill:#929292;\"/>\n    <path clip-path=\"url(#p0ecf36c0b1)\" d=\"M 291.354562 152.16 \nL 309.210562 152.16 \nL 309.210562 166.656 \nL 291.354562 166.656 \nL 291.354562 152.16 \n\" style=\"fill:#5c5c5c;\"/>\n    <path clip-path=\"url(#p0ecf36c0b1)\" d=\"M 309.210562 152.16 \nL 327.066562 152.16 \nL 327.066562 166.656 \nL 309.210562 166.656 \nL 309.210562 152.16 \n\" style=\"fill:#252525;\"/>\n    <path clip-path=\"url(#p0ecf36c0b1)\" d=\"M 59.226563 166.656 \nL 77.082563 166.656 \nL 77.082563 181.152 \nL 59.226563 181.152 \nL 59.226563 166.656 \n\" style=\"fill:#515151;\"/>\n    <path clip-path=\"url(#p0ecf36c0b1)\" d=\"M 77.082563 166.656 \nL 94.938563 166.656 \nL 94.938563 181.152 \nL 77.082563 181.152 \nL 77.082563 166.656 \n\" style=\"fill:#3f3f3f;\"/>\n    <path clip-path=\"url(#p0ecf36c0b1)\" d=\"M 94.938563 166.656 \nL 112.794563 166.656 \nL 112.794563 181.152 \nL 94.938563 181.152 \nL 94.938563 166.656 \n\" style=\"fill:#707070;\"/>\n    <path clip-path=\"url(#p0ecf36c0b1)\" d=\"M 112.794563 166.656 \nL 130.650563 166.656 \nL 130.650563 181.152 \nL 112.794563 181.152 \nL 112.794563 166.656 \n\" style=\"fill:#757575;\"/>\n    <path clip-path=\"url(#p0ecf36c0b1)\" d=\"M 130.650563 166.656 \nL 148.506563 166.656 \nL 148.506563 181.152 \nL 130.650563 181.152 \nL 130.650563 166.656 \n\" style=\"fill:#6b6b6b;\"/>\n    <path clip-path=\"url(#p0ecf36c0b1)\" d=\"M 148.506563 166.656 \nL 166.362562 166.656 \nL 166.362562 181.152 \nL 148.506563 181.152 \nL 148.506563 166.656 \n\" style=\"fill:#8a8a8a;\"/>\n    <path clip-path=\"url(#p0ecf36c0b1)\" d=\"M 166.362562 166.656 \nL 184.218562 166.656 \nL 184.218562 181.152 \nL 166.362562 181.152 \nL 166.362562 166.656 \n\" style=\"fill:#7b7b7b;\"/>\n    <path clip-path=\"url(#p0ecf36c0b1)\" d=\"M 184.218562 166.656 \nL 202.074562 166.656 \nL 202.074562 181.152 \nL 184.218562 181.152 \nL 184.218562 166.656 \n\" style=\"fill:#d6d6d6;\"/>\n    <path clip-path=\"url(#p0ecf36c0b1)\" d=\"M 202.074562 166.656 \nL 219.930562 166.656 \nL 219.930562 181.152 \nL 202.074562 181.152 \nL 202.074562 166.656 \n\" style=\"fill:#666666;\"/>\n    <path clip-path=\"url(#p0ecf36c0b1)\" d=\"M 219.930562 166.656 \nL 237.786562 166.656 \nL 237.786562 181.152 \nL 219.930562 181.152 \nL 219.930562 166.656 \n\" style=\"fill:#555555;\"/>\n    <path clip-path=\"url(#p0ecf36c0b1)\" d=\"M 237.786562 166.656 \nL 255.642562 166.656 \nL 255.642562 181.152 \nL 237.786562 181.152 \nL 237.786562 166.656 \n\" style=\"fill:#5e5e5e;\"/>\n    <path clip-path=\"url(#p0ecf36c0b1)\" d=\"M 255.642562 166.656 \nL 273.498562 166.656 \nL 273.498562 181.152 \nL 255.642562 181.152 \nL 255.642562 166.656 \n\" style=\"fill:#ffffff;\"/>\n    <path clip-path=\"url(#p0ecf36c0b1)\" d=\"M 273.498562 166.656 \nL 291.354562 166.656 \nL 291.354562 181.152 \nL 273.498562 181.152 \nL 273.498562 166.656 \n\" style=\"fill:#cecece;\"/>\n    <path clip-path=\"url(#p0ecf36c0b1)\" d=\"M 291.354562 166.656 \nL 309.210562 166.656 \nL 309.210562 181.152 \nL 291.354562 181.152 \nL 291.354562 166.656 \n\" style=\"fill:#c3c3c3;\"/>\n    <path clip-path=\"url(#p0ecf36c0b1)\" d=\"M 309.210562 166.656 \nL 327.066562 166.656 \nL 327.066562 181.152 \nL 309.210562 181.152 \nL 309.210562 166.656 \n\" style=\"fill:#777777;\"/>\n    <path clip-path=\"url(#p0ecf36c0b1)\" d=\"M 59.226563 181.152 \nL 77.082563 181.152 \nL 77.082563 195.648 \nL 59.226563 195.648 \nL 59.226563 181.152 \n\" style=\"fill:#414141;\"/>\n    <path clip-path=\"url(#p0ecf36c0b1)\" d=\"M 77.082563 181.152 \nL 94.938563 181.152 \nL 94.938563 195.648 \nL 77.082563 195.648 \nL 77.082563 181.152 \n\" style=\"fill:#414141;\"/>\n    <path clip-path=\"url(#p0ecf36c0b1)\" d=\"M 94.938563 181.152 \nL 112.794563 181.152 \nL 112.794563 195.648 \nL 94.938563 195.648 \nL 94.938563 181.152 \n\" style=\"fill:#606060;\"/>\n    <path clip-path=\"url(#p0ecf36c0b1)\" d=\"M 112.794563 181.152 \nL 130.650563 181.152 \nL 130.650563 195.648 \nL 112.794563 195.648 \nL 112.794563 181.152 \n\" style=\"fill:#646464;\"/>\n    <path clip-path=\"url(#p0ecf36c0b1)\" d=\"M 130.650563 181.152 \nL 148.506563 181.152 \nL 148.506563 195.648 \nL 130.650563 195.648 \nL 130.650563 181.152 \n\" style=\"fill:#a3a3a3;\"/>\n    <path clip-path=\"url(#p0ecf36c0b1)\" d=\"M 148.506563 181.152 \nL 166.362562 181.152 \nL 166.362562 195.648 \nL 148.506563 195.648 \nL 148.506563 181.152 \n\" style=\"fill:#616161;\"/>\n    <path clip-path=\"url(#p0ecf36c0b1)\" d=\"M 166.362562 181.152 \nL 184.218562 181.152 \nL 184.218562 195.648 \nL 166.362562 195.648 \nL 166.362562 181.152 \n\" style=\"fill:#5a5a5a;\"/>\n    <path clip-path=\"url(#p0ecf36c0b1)\" d=\"M 184.218562 181.152 \nL 202.074562 181.152 \nL 202.074562 195.648 \nL 184.218562 195.648 \nL 184.218562 181.152 \n\" style=\"fill:#ababab;\"/>\n    <path clip-path=\"url(#p0ecf36c0b1)\" d=\"M 202.074562 181.152 \nL 219.930562 181.152 \nL 219.930562 195.648 \nL 202.074562 195.648 \nL 202.074562 181.152 \n\" style=\"fill:#979797;\"/>\n    <path clip-path=\"url(#p0ecf36c0b1)\" d=\"M 219.930562 181.152 \nL 237.786562 181.152 \nL 237.786562 195.648 \nL 219.930562 195.648 \nL 219.930562 181.152 \n\" style=\"fill:#858585;\"/>\n    <path clip-path=\"url(#p0ecf36c0b1)\" d=\"M 237.786562 181.152 \nL 255.642562 181.152 \nL 255.642562 195.648 \nL 237.786562 195.648 \nL 237.786562 181.152 \n\" style=\"fill:#929292;\"/>\n    <path clip-path=\"url(#p0ecf36c0b1)\" d=\"M 255.642562 181.152 \nL 273.498562 181.152 \nL 273.498562 195.648 \nL 255.642562 195.648 \nL 255.642562 181.152 \n\" style=\"fill:#cecece;\"/>\n    <path clip-path=\"url(#p0ecf36c0b1)\" d=\"M 273.498562 181.152 \nL 291.354562 181.152 \nL 291.354562 195.648 \nL 273.498562 195.648 \nL 273.498562 181.152 \n\" style=\"fill:#ffffff;\"/>\n    <path clip-path=\"url(#p0ecf36c0b1)\" d=\"M 291.354562 181.152 \nL 309.210562 181.152 \nL 309.210562 195.648 \nL 291.354562 195.648 \nL 291.354562 181.152 \n\" style=\"fill:#b4b4b4;\"/>\n    <path clip-path=\"url(#p0ecf36c0b1)\" d=\"M 309.210562 181.152 \nL 327.066562 181.152 \nL 327.066562 195.648 \nL 309.210562 195.648 \nL 309.210562 181.152 \n\" style=\"fill:#5f5f5f;\"/>\n    <path clip-path=\"url(#p0ecf36c0b1)\" d=\"M 59.226563 195.648 \nL 77.082563 195.648 \nL 77.082563 210.144 \nL 59.226563 210.144 \nL 59.226563 195.648 \n\" style=\"fill:#5d5d5d;\"/>\n    <path clip-path=\"url(#p0ecf36c0b1)\" d=\"M 77.082563 195.648 \nL 94.938563 195.648 \nL 94.938563 210.144 \nL 77.082563 210.144 \nL 77.082563 195.648 \n\" style=\"fill:#404040;\"/>\n    <path clip-path=\"url(#p0ecf36c0b1)\" d=\"M 94.938563 195.648 \nL 112.794563 195.648 \nL 112.794563 210.144 \nL 94.938563 210.144 \nL 94.938563 195.648 \n\" style=\"fill:#666666;\"/>\n    <path clip-path=\"url(#p0ecf36c0b1)\" d=\"M 112.794563 195.648 \nL 130.650563 195.648 \nL 130.650563 210.144 \nL 112.794563 210.144 \nL 112.794563 195.648 \n\" style=\"fill:#787878;\"/>\n    <path clip-path=\"url(#p0ecf36c0b1)\" d=\"M 130.650563 195.648 \nL 148.506563 195.648 \nL 148.506563 210.144 \nL 130.650563 210.144 \nL 130.650563 195.648 \n\" style=\"fill:#666666;\"/>\n    <path clip-path=\"url(#p0ecf36c0b1)\" d=\"M 148.506563 195.648 \nL 166.362562 195.648 \nL 166.362562 210.144 \nL 148.506563 210.144 \nL 148.506563 195.648 \n\" style=\"fill:#959595;\"/>\n    <path clip-path=\"url(#p0ecf36c0b1)\" d=\"M 166.362562 195.648 \nL 184.218562 195.648 \nL 184.218562 210.144 \nL 166.362562 210.144 \nL 166.362562 195.648 \n\" style=\"fill:#929292;\"/>\n    <path clip-path=\"url(#p0ecf36c0b1)\" d=\"M 184.218562 195.648 \nL 202.074562 195.648 \nL 202.074562 210.144 \nL 184.218562 210.144 \nL 184.218562 195.648 \n\" style=\"fill:#c5c5c5;\"/>\n    <path clip-path=\"url(#p0ecf36c0b1)\" d=\"M 202.074562 195.648 \nL 219.930562 195.648 \nL 219.930562 210.144 \nL 202.074562 210.144 \nL 202.074562 195.648 \n\" style=\"fill:#626262;\"/>\n    <path clip-path=\"url(#p0ecf36c0b1)\" d=\"M 219.930562 195.648 \nL 237.786562 195.648 \nL 237.786562 210.144 \nL 219.930562 210.144 \nL 219.930562 195.648 \n\" style=\"fill:#505050;\"/>\n    <path clip-path=\"url(#p0ecf36c0b1)\" d=\"M 237.786562 195.648 \nL 255.642562 195.648 \nL 255.642562 210.144 \nL 237.786562 210.144 \nL 237.786562 195.648 \n\" style=\"fill:#5c5c5c;\"/>\n    <path clip-path=\"url(#p0ecf36c0b1)\" d=\"M 255.642562 195.648 \nL 273.498562 195.648 \nL 273.498562 210.144 \nL 255.642562 210.144 \nL 255.642562 195.648 \n\" style=\"fill:#c3c3c3;\"/>\n    <path clip-path=\"url(#p0ecf36c0b1)\" d=\"M 273.498562 195.648 \nL 291.354562 195.648 \nL 291.354562 210.144 \nL 273.498562 210.144 \nL 273.498562 195.648 \n\" style=\"fill:#b4b4b4;\"/>\n    <path clip-path=\"url(#p0ecf36c0b1)\" d=\"M 291.354562 195.648 \nL 309.210562 195.648 \nL 309.210562 210.144 \nL 291.354562 210.144 \nL 291.354562 195.648 \n\" style=\"fill:#ffffff;\"/>\n    <path clip-path=\"url(#p0ecf36c0b1)\" d=\"M 309.210562 195.648 \nL 327.066562 195.648 \nL 327.066562 210.144 \nL 309.210562 210.144 \nL 309.210562 195.648 \n\" style=\"fill:#a2a2a2;\"/>\n    <path clip-path=\"url(#p0ecf36c0b1)\" d=\"M 59.226563 210.144 \nL 77.082563 210.144 \nL 77.082563 224.64 \nL 59.226563 224.64 \nL 59.226563 210.144 \n\" style=\"fill:#606060;\"/>\n    <path clip-path=\"url(#p0ecf36c0b1)\" d=\"M 77.082563 210.144 \nL 94.938563 210.144 \nL 94.938563 224.64 \nL 77.082563 224.64 \nL 77.082563 210.144 \n\" style=\"fill:#4e4e4e;\"/>\n    <path clip-path=\"url(#p0ecf36c0b1)\" d=\"M 94.938563 210.144 \nL 112.794563 210.144 \nL 112.794563 224.64 \nL 94.938563 224.64 \nL 94.938563 210.144 \n\" style=\"fill:#a2a2a2;\"/>\n    <path clip-path=\"url(#p0ecf36c0b1)\" d=\"M 112.794563 210.144 \nL 130.650563 210.144 \nL 130.650563 224.64 \nL 112.794563 224.64 \nL 112.794563 210.144 \n\" style=\"fill:#c7c7c7;\"/>\n    <path clip-path=\"url(#p0ecf36c0b1)\" d=\"M 130.650563 210.144 \nL 148.506563 210.144 \nL 148.506563 224.64 \nL 130.650563 224.64 \nL 130.650563 210.144 \n\" style=\"fill:#303030;\"/>\n    <path clip-path=\"url(#p0ecf36c0b1)\" d=\"M 148.506563 210.144 \nL 166.362562 210.144 \nL 166.362562 224.64 \nL 148.506563 224.64 \nL 148.506563 210.144 \n\" style=\"fill:#737373;\"/>\n    <path clip-path=\"url(#p0ecf36c0b1)\" d=\"M 166.362562 210.144 \nL 184.218562 210.144 \nL 184.218562 224.64 \nL 166.362562 224.64 \nL 166.362562 210.144 \n\" style=\"fill:#757575;\"/>\n    <path clip-path=\"url(#p0ecf36c0b1)\" d=\"M 184.218562 210.144 \nL 202.074562 210.144 \nL 202.074562 224.64 \nL 184.218562 224.64 \nL 184.218562 210.144 \n\" style=\"fill:#919191;\"/>\n    <path clip-path=\"url(#p0ecf36c0b1)\" d=\"M 202.074562 210.144 \nL 219.930562 210.144 \nL 219.930562 224.64 \nL 202.074562 224.64 \nL 202.074562 210.144 \n\" style=\"fill:#555555;\"/>\n    <path clip-path=\"url(#p0ecf36c0b1)\" d=\"M 219.930562 210.144 \nL 237.786562 210.144 \nL 237.786562 224.64 \nL 219.930562 224.64 \nL 219.930562 210.144 \n\" style=\"fill:#1e1e1e;\"/>\n    <path clip-path=\"url(#p0ecf36c0b1)\" d=\"M 237.786562 210.144 \nL 255.642562 210.144 \nL 255.642562 224.64 \nL 237.786562 224.64 \nL 237.786562 210.144 \n\" style=\"fill:#252525;\"/>\n    <path clip-path=\"url(#p0ecf36c0b1)\" d=\"M 255.642562 210.144 \nL 273.498562 210.144 \nL 273.498562 224.64 \nL 255.642562 224.64 \nL 255.642562 210.144 \n\" style=\"fill:#777777;\"/>\n    <path clip-path=\"url(#p0ecf36c0b1)\" d=\"M 273.498562 210.144 \nL 291.354562 210.144 \nL 291.354562 224.64 \nL 273.498562 224.64 \nL 273.498562 210.144 \n\" style=\"fill:#5f5f5f;\"/>\n    <path clip-path=\"url(#p0ecf36c0b1)\" d=\"M 291.354562 210.144 \nL 309.210562 210.144 \nL 309.210562 224.64 \nL 291.354562 224.64 \nL 291.354562 210.144 \n\" style=\"fill:#a2a2a2;\"/>\n    <path clip-path=\"url(#p0ecf36c0b1)\" d=\"M 309.210562 210.144 \nL 327.066562 210.144 \nL 327.066562 224.64 \nL 309.210562 224.64 \nL 309.210562 210.144 \n\" style=\"fill:#ffffff;\"/>\n   </g>\n   <g id=\"patch_3\">\n    <path d=\"M 59.226563 224.64 \nL 59.226563 7.2 \n\" style=\"fill:none;\"/>\n   </g>\n   <g id=\"patch_4\">\n    <path d=\"M 327.066562 224.64 \nL 327.066562 7.2 \n\" style=\"fill:none;\"/>\n   </g>\n   <g id=\"patch_5\">\n    <path d=\"M 59.226563 224.64 \nL 327.066562 224.64 \n\" style=\"fill:none;\"/>\n   </g>\n   <g id=\"patch_6\">\n    <path d=\"M 59.226563 7.2 \nL 327.066562 7.2 \n\" style=\"fill:none;\"/>\n   </g>\n  </g>\n  <g id=\"axes_2\">\n   <g id=\"patch_7\">\n    <path clip-path=\"url(#pdb8d9e7d28)\" d=\"M 343.806562 224.64 \nL 343.806562 223.790625 \nL 343.806562 8.049375 \nL 343.806562 7.2 \nL 354.678562 7.2 \nL 354.678562 8.049375 \nL 354.678562 223.790625 \nL 354.678562 224.64 \nz\n\" style=\"fill:#eaeaf2;stroke:#eaeaf2;stroke-linejoin:miter;stroke-width:0.01;\"/>\n   </g>\n   <g id=\"matplotlib.axis_3\"/>\n   <g id=\"matplotlib.axis_4\">\n    <g id=\"ytick_16\">\n     <g id=\"line2d_31\"/>\n     <g id=\"text_31\">\n      <!-- 0.0 -->\n      <defs>\n       <path d=\"M 9.125 0 \nL 9.125 10.6875 \nL 18.65625 10.6875 \nL 18.65625 0 \nz\n\" id=\"LiberationSans-2e\"/>\n      </defs>\n      <g style=\"fill:#262626;\" transform=\"translate(361.678562 228.263437)scale(0.1 -0.1)\">\n       <use xlink:href=\"#LiberationSans-30\"/>\n       <use x=\"55.615234\" xlink:href=\"#LiberationSans-2e\"/>\n       <use x=\"83.398438\" xlink:href=\"#LiberationSans-30\"/>\n      </g>\n     </g>\n    </g>\n    <g id=\"ytick_17\">\n     <g id=\"line2d_32\"/>\n     <g id=\"text_32\">\n      <!-- 0.1 -->\n      <g style=\"fill:#262626;\" transform=\"translate(361.678562 201.959233)scale(0.1 -0.1)\">\n       <use xlink:href=\"#LiberationSans-30\"/>\n       <use x=\"55.615234\" xlink:href=\"#LiberationSans-2e\"/>\n       <use x=\"83.398438\" xlink:href=\"#LiberationSans-31\"/>\n      </g>\n     </g>\n    </g>\n    <g id=\"ytick_18\">\n     <g id=\"line2d_33\"/>\n     <g id=\"text_33\">\n      <!-- 0.2 -->\n      <g style=\"fill:#262626;\" transform=\"translate(361.678562 175.655029)scale(0.1 -0.1)\">\n       <use xlink:href=\"#LiberationSans-30\"/>\n       <use x=\"55.615234\" xlink:href=\"#LiberationSans-2e\"/>\n       <use x=\"83.398438\" xlink:href=\"#LiberationSans-32\"/>\n      </g>\n     </g>\n    </g>\n    <g id=\"ytick_19\">\n     <g id=\"line2d_34\"/>\n     <g id=\"text_34\">\n      <!-- 0.3 -->\n      <g style=\"fill:#262626;\" transform=\"translate(361.678562 149.350824)scale(0.1 -0.1)\">\n       <use xlink:href=\"#LiberationSans-30\"/>\n       <use x=\"55.615234\" xlink:href=\"#LiberationSans-2e\"/>\n       <use x=\"83.398438\" xlink:href=\"#LiberationSans-33\"/>\n      </g>\n     </g>\n    </g>\n    <g id=\"ytick_20\">\n     <g id=\"line2d_35\"/>\n     <g id=\"text_35\">\n      <!-- 0.4 -->\n      <g style=\"fill:#262626;\" transform=\"translate(361.678562 123.04662)scale(0.1 -0.1)\">\n       <use xlink:href=\"#LiberationSans-30\"/>\n       <use x=\"55.615234\" xlink:href=\"#LiberationSans-2e\"/>\n       <use x=\"83.398438\" xlink:href=\"#LiberationSans-34\"/>\n      </g>\n     </g>\n    </g>\n    <g id=\"ytick_21\">\n     <g id=\"line2d_36\"/>\n     <g id=\"text_36\">\n      <!-- 0.5 -->\n      <g style=\"fill:#262626;\" transform=\"translate(361.678562 96.742415)scale(0.1 -0.1)\">\n       <use xlink:href=\"#LiberationSans-30\"/>\n       <use x=\"55.615234\" xlink:href=\"#LiberationSans-2e\"/>\n       <use x=\"83.398438\" xlink:href=\"#LiberationSans-35\"/>\n      </g>\n     </g>\n    </g>\n    <g id=\"ytick_22\">\n     <g id=\"line2d_37\"/>\n     <g id=\"text_37\">\n      <!-- 0.6 -->\n      <g style=\"fill:#262626;\" transform=\"translate(361.678562 70.438211)scale(0.1 -0.1)\">\n       <use xlink:href=\"#LiberationSans-30\"/>\n       <use x=\"55.615234\" xlink:href=\"#LiberationSans-2e\"/>\n       <use x=\"83.398438\" xlink:href=\"#LiberationSans-36\"/>\n      </g>\n     </g>\n    </g>\n    <g id=\"ytick_23\">\n     <g id=\"line2d_38\"/>\n     <g id=\"text_38\">\n      <!-- 0.7 -->\n      <g style=\"fill:#262626;\" transform=\"translate(361.678562 44.134006)scale(0.1 -0.1)\">\n       <use xlink:href=\"#LiberationSans-30\"/>\n       <use x=\"55.615234\" xlink:href=\"#LiberationSans-2e\"/>\n       <use x=\"83.398438\" xlink:href=\"#LiberationSans-37\"/>\n      </g>\n     </g>\n    </g>\n    <g id=\"ytick_24\">\n     <g id=\"line2d_39\"/>\n     <g id=\"text_39\">\n      <!-- 0.8 -->\n      <g style=\"fill:#262626;\" transform=\"translate(361.678562 17.829802)scale(0.1 -0.1)\">\n       <use xlink:href=\"#LiberationSans-30\"/>\n       <use x=\"55.615234\" xlink:href=\"#LiberationSans-2e\"/>\n       <use x=\"83.398438\" xlink:href=\"#LiberationSans-38\"/>\n      </g>\n     </g>\n    </g>\n   </g>\n   <image height=\"218\" id=\"image819fb01cf9\" transform=\"scale(1 -1)translate(0 -218)\" width=\"11\" x=\"344\" xlink:href=\"data:image/png;base64,\niVBORw0KGgoAAAANSUhEUgAAAAsAAADaCAYAAABwzrisAAAABHNCSVQICAgIfAhkiAAAAMBJREFUaIHtmUEOxDAIA6Ha//84Sa85QqVEY5Y9j5CxXdFqfa21LPj7JVh7wuQ/TIbIUFyw3QBOhsiALKhonSJ80I05J0EGxLp2Y59c3Y3UgpQHVtANSp+ru9EwEVYs0hiDIOOcz+dC6bjvwIoJQrqhGLdikSAyIAtC4C7/Dit2A3LoFeF2Y4fLu6G4YN/BO3DqDiqGcu7QQ4qUkgF57YHErZhgl/8zDCl/L3gHLu9G+S+gjGZ39/BoN7MwnPp36QVNzUlbdMWn0gAAAABJRU5ErkJggg==\" y=\"-6\"/>\n   <g id=\"patch_8\">\n    <path d=\"M 343.806562 224.64 \nL 343.806562 223.790625 \nL 343.806562 8.049375 \nL 343.806562 7.2 \nL 354.678562 7.2 \nL 354.678562 8.049375 \nL 354.678562 223.790625 \nL 354.678562 224.64 \nz\n\" style=\"fill:none;\"/>\n   </g>\n  </g>\n </g>\n <defs>\n  <clipPath id=\"p0ecf36c0b1\">\n   <rect height=\"217.44\" width=\"267.84\" x=\"59.226563\" y=\"7.2\"/>\n  </clipPath>\n  <clipPath id=\"pdb8d9e7d28\">\n   <rect height=\"217.44\" width=\"10.872\" x=\"343.806562\" y=\"7.2\"/>\n  </clipPath>\n </defs>\n</svg>\n"
          },
          "metadata": {
            "tags": []
          },
          "execution_count": 51
        }
      ]
    },
    {
      "metadata": {
        "id": "ZKBnEc7VXusa",
        "colab_type": "text"
      },
      "cell_type": "markdown",
      "source": [
        "### Perform principal coordinates analysis (aka: multi-dimensional scaling analysis) with bray-curtis matrix\n",
        "\n",
        "- PCoA attempts to place the distances from the matrix into dimensional space.\n",
        "- Visualizing distances in space helps identify which groups of samples are most similar."
      ]
    },
    {
      "metadata": {
        "id": "iK2rWXPtXusd",
        "colab_type": "code",
        "outputId": "d59868fe-bbab-43ad-8ae5-9fe533f49735",
        "colab": {
          "base_uri": "https://localhost:8080/",
          "height": 320
        }
      },
      "cell_type": "code",
      "source": [
        "from skbio.stats import ordination\n",
        "#use the special distance matrix format as the input matrix for the pcoa function (bc_matrix)\n",
        "MDS = ordination.pcoa(bc_matrix)\n",
        "\n",
        "#Plot a figure visualizing 2-D distance between samples using the first two ordinatation axes\n",
        "\n",
        "%matplotlib inline\n",
        "plt.plot(MDS.samples['PC1'],MDS.samples['PC2'], lw=0, marker = 'o')\n",
        "\n",
        "#Add labels to the graph so you know which samples are clustering\n",
        "for x in np.arange(0,len(MDS.samples['PC1'])):\n",
        "    plt.text(MDS.samples.PC1[x],MDS.samples.PC2[x],sample_list[x])"
      ],
      "execution_count": 52,
      "outputs": [
        {
          "output_type": "stream",
          "text": [
            "/usr/local/lib/python3.6/dist-packages/skbio/stats/ordination/_principal_coordinate_analysis.py:152: RuntimeWarning: The result contains negative eigenvalues. Please compare their magnitude with the magnitude of some of the largest positive eigenvalues. If the negative ones are smaller, it's probably safe to ignore them, but if they are large in magnitude, the results won't be useful. See the Notes section for more details. The smallest eigenvalue is -0.015620714875968464 and the largest is 0.9291573735929526.\n",
            "  RuntimeWarning\n"
          ],
          "name": "stderr"
        },
        {
          "output_type": "display_data",
          "data": {
            "image/png": "[encoded data removed]",
            "text/plain": [
              "<matplotlib.figure.Figure at 0x7ff8ac748e80>"
            ]
          },
          "metadata": {
            "tags": []
          }
        }
      ]
    },
    {
      "metadata": {
        "id": "11TMpQcHXusp",
        "colab_type": "text"
      },
      "cell_type": "markdown",
      "source": [
        "## Identify clusters of samples and test whether they are significantly different\n",
        "- here we are using k-means clustering.  You could also use the clustering method explained further down\n",
        "- k-means clustering requires an apriori defined number of clusters to identify\n",
        "- output of k-means clustering is a list of the corresponding group that each sample belongs to."
      ]
    },
    {
      "metadata": {
        "id": "zEZi-wTVXusr",
        "colab_type": "code",
        "outputId": "ebf57a83-c406-4d04-bad5-5f4a5309078b",
        "colab": {
          "base_uri": "https://localhost:8080/",
          "height": 34
        }
      },
      "cell_type": "code",
      "source": [
        "from sklearn.cluster import KMeans\n",
        "\n",
        "#This function requires the square-shaped bray-curtis similarity array, without specialized formating\n",
        "kmeans = KMeans(n_clusters=3, random_state=0).fit(bc_matrix_square)\n",
        "kmeans.labels_"
      ],
      "execution_count": 53,
      "outputs": [
        {
          "output_type": "execute_result",
          "data": {
            "text/plain": [
              "array([2, 2, 2, 2, 0, 1, 1, 1, 0, 0, 0, 1, 1, 1, 2], dtype=int32)"
            ]
          },
          "metadata": {
            "tags": []
          },
          "execution_count": 53
        }
      ]
    },
    {
      "metadata": {
        "id": "eqXTU6ubXus1",
        "colab_type": "code",
        "outputId": "96227929-f421-439f-8577-e0f150eed767",
        "colab": {
          "base_uri": "https://localhost:8080/",
          "height": 156
        }
      },
      "cell_type": "code",
      "source": [
        "#test whether differences among groups are significant.\n",
        "permanova_test = skbio.stats.distance.permanova(bc_matrix,kmeans.labels_)\n",
        "permanova_test"
      ],
      "execution_count": 54,
      "outputs": [
        {
          "output_type": "execute_result",
          "data": {
            "text/plain": [
              "method name               PERMANOVA\n",
              "test statistic name        pseudo-F\n",
              "sample size                      15\n",
              "number of groups                  3\n",
              "test statistic              8.25456\n",
              "p-value                       0.001\n",
              "number of permutations          999\n",
              "Name: PERMANOVA results, dtype: object"
            ]
          },
          "metadata": {
            "tags": []
          },
          "execution_count": 54
        }
      ]
    },
    {
      "metadata": {
        "id": "FqakHzJlXus_",
        "colab_type": "text"
      },
      "cell_type": "markdown",
      "source": [
        "## Explore which species might be driving significant differences among groups of samples\n",
        "- Here we use a \"simper\" analysis to idenify which species contribute the most to the the percent dissimilarity between two groups of samples\n",
        "- We are using the simper analysis function in the ecopy library of functions\n",
        "- We are using the k-means clustering results to define groups of samples\n",
        "- Here, we print out the top ten species contributing to differences among groups\n",
        "- Simper is not an especially robust statistical analysis, but helps point you toward the species driving differences among groups found through more robust approaches (like PERMANOVA)"
      ]
    },
    {
      "metadata": {
        "id": "EGWnZmpjXutD",
        "colab_type": "code",
        "outputId": "ab0a1dfa-2618-4ffa-984a-1dd29a95b19e",
        "colab": {
          "base_uri": "https://localhost:8080/",
          "height": 130
        }
      },
      "cell_type": "code",
      "source": [
        "from Phytoplankton_Taxomony_Course/simper_edited_fromEcopy import simper\n",
        "species_driving_differences = ecopy.simper(np.asarray(cells_per_mL.T),kmeans.labels_)\n",
        "#print(species_driving_differences.iloc['0-1'][1:10])\n",
        "#print(species_driving_differences.iloc['0-2'][1:10])\n",
        "#print(species_driving_differences.ix['1-2'][1:10])"
      ],
      "execution_count": 56,
      "outputs": [
        {
          "output_type": "error",
          "ename": "SyntaxError",
          "evalue": "ignored",
          "traceback": [
            "\u001b[0;36m  File \u001b[0;32m\"<ipython-input-56-2a17b95cf8bb>\"\u001b[0;36m, line \u001b[0;32m1\u001b[0m\n\u001b[0;31m    from Phytoplankton_Taxomony_Course/simper_edited_fromEcopy import simper\u001b[0m\n\u001b[0m                                      ^\u001b[0m\n\u001b[0;31mSyntaxError\u001b[0m\u001b[0;31m:\u001b[0m invalid syntax\n"
          ]
        }
      ]
    },
    {
      "metadata": {
        "id": "oCAk3LgXXutL",
        "colab_type": "text"
      },
      "cell_type": "markdown",
      "source": [
        "## Alternative clustering approaches\n",
        "- heierarchical clustering and visualization using a dendrogram"
      ]
    },
    {
      "metadata": {
        "id": "MMYCUIm-XutO",
        "colab_type": "code",
        "outputId": "30d26caf-54f7-444c-a266-12dd4f805d79",
        "colab": {
          "base_uri": "https://localhost:8080/",
          "height": 1486
        }
      },
      "cell_type": "code",
      "source": [
        "from scipy.cluster.hierarchy import dendrogram, linkage\n",
        "\n",
        "#this function requires the condensed format of our bray-curtis similarity index\n",
        "linkage_matrix = linkage(bc_matrix_condensed, \"centroid\")\n",
        "plt.figure(figsize=[15,5])\n",
        "dendrogram(linkage_matrix, labels=sample_list)\n"
      ],
      "execution_count": 31,
      "outputs": [
        {
          "output_type": "execute_result",
          "data": {
            "text/plain": [
              "{'color_list': ['g',\n",
              "  'g',\n",
              "  'g',\n",
              "  'r',\n",
              "  'c',\n",
              "  'c',\n",
              "  'c',\n",
              "  'b',\n",
              "  'm',\n",
              "  'm',\n",
              "  'b',\n",
              "  'b',\n",
              "  'b',\n",
              "  'b'],\n",
              " 'dcoord': [[0.0, 0.14061384725196288, 0.14061384725196288, 0.0],\n",
              "  [0.0, 0.27671641271968556, 0.27671641271968556, 0.14061384725196288],\n",
              "  [0.0, 0.3223284777127483, 0.3223284777127483, 0.27671641271968556],\n",
              "  [0.0, 0.14871415660175827, 0.14871415660175827, 0.0],\n",
              "  [0.0, 0.21640091116173116, 0.21640091116173116, 0.0],\n",
              "  [0.0, 0.262483359675612, 0.262483359675612, 0.21640091116173116],\n",
              "  [0.0, 0.27759837832022183, 0.27759837832022183, 0.262483359675612],\n",
              "  [0.14871415660175827,\n",
              "   0.43094984435649725,\n",
              "   0.43094984435649725,\n",
              "   0.27759837832022183],\n",
              "  [0.0, 0.1955484896661367, 0.1955484896661367, 0.0],\n",
              "  [0.0, 0.317089666666739, 0.317089666666739, 0.1955484896661367],\n",
              "  [0.0, 0.43923137114844396, 0.43923137114844396, 0.317089666666739],\n",
              "  [0.43094984435649725,\n",
              "   0.4400751258465058,\n",
              "   0.4400751258465058,\n",
              "   0.43923137114844396],\n",
              "  [0.3223284777127483,\n",
              "   0.5068738376771578,\n",
              "   0.5068738376771578,\n",
              "   0.4400751258465058],\n",
              "  [0.0, 0.5248668215998585, 0.5248668215998585, 0.5068738376771578]],\n",
              " 'icoord': [[35.0, 35.0, 45.0, 45.0],\n",
              "  [25.0, 25.0, 40.0, 40.0],\n",
              "  [15.0, 15.0, 32.5, 32.5],\n",
              "  [55.0, 55.0, 65.0, 65.0],\n",
              "  [95.0, 95.0, 105.0, 105.0],\n",
              "  [85.0, 85.0, 100.0, 100.0],\n",
              "  [75.0, 75.0, 92.5, 92.5],\n",
              "  [60.0, 60.0, 83.75, 83.75],\n",
              "  [135.0, 135.0, 145.0, 145.0],\n",
              "  [125.0, 125.0, 140.0, 140.0],\n",
              "  [115.0, 115.0, 132.5, 132.5],\n",
              "  [71.875, 71.875, 123.75, 123.75],\n",
              "  [23.75, 23.75, 97.8125, 97.8125],\n",
              "  [5.0, 5.0, 60.78125, 60.78125]],\n",
              " 'ivl': ['Sample2',\n",
              "  'Sample5',\n",
              "  'Sample9',\n",
              "  'Sample10',\n",
              "  'Sample11',\n",
              "  'Sample6',\n",
              "  'Sample7',\n",
              "  'Sample13',\n",
              "  'Sample14',\n",
              "  'Sample8',\n",
              "  'Sample12',\n",
              "  'Sample1',\n",
              "  'Sample15',\n",
              "  'Sample3',\n",
              "  'Sample4'],\n",
              " 'leaves': [1, 4, 8, 9, 10, 5, 6, 12, 13, 7, 11, 0, 14, 2, 3]}"
            ]
          },
          "metadata": {
            "tags": []
          },
          "execution_count": 31
        },
        {
          "output_type": "display_data",
          "data": {
            "image/png": "[encoded data removed]",
            "text/plain": [
              "<matplotlib.figure.Figure at 0x7ff8acb72780>"
            ]
          },
          "metadata": {
            "tags": []
          }
        }
      ]
    },
    {
      "metadata": {
        "id": "YwfYF7ifXuto",
        "colab_type": "code",
        "colab": {}
      },
      "cell_type": "code",
      "source": [
        ""
      ],
      "execution_count": 0,
      "outputs": []
    }
  ]
}